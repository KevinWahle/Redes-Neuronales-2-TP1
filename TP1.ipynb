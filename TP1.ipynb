{
  "nbformat": 4,
  "nbformat_minor": 0,
  "metadata": {
    "colab": {
      "provenance": [],
      "toc_visible": true
    },
    "kernelspec": {
      "name": "python3",
      "display_name": "Python 3"
    },
    "language_info": {
      "name": "python"
    }
  },
  "cells": [
    {
      "cell_type": "markdown",
      "source": [
        "#Consigna"
      ],
      "metadata": {
        "id": "62iBLSHeRij0"
      }
    },
    {
      "cell_type": "markdown",
      "source": [
        "El objetivo de las actividades propuestas es desarrollar intuición sobre la estructura semántica subyacente en embeddings de documentos y palabras básicos generados a partir de conteos y hacer un análisis exploratorio de forma cualitativa. Para ello se trabajará con el dataset 20 Newsgroups (disponible a través de sklearn) y diferentes formas de construir embeddings de documentos y de palabras:\n",
        "\n",
        "1.   Usar las vectorizaciones disponibles en sklearn de CountVectorizer y TfidfVectorizer para construir la matriz de documento-término. Esto proveerá de embeddings para cada documento. Con esta vectorización explorar similaridad entre documentos (tomar algún documento y evaluar los documentos correspondientes con mayor similaridad), dado que el dataset provee también clasificación anotada en tópicos se aprovechar esta clasificación como elemento extra para comprobar la similaridad de documentos. Explorar vectorizar con diferentes cantidades de n-gramas. Toda exploración adicional a las mencionadas es bienvenida.\n",
        "2.   Repetir la exploración de similaridad de documentos pero utilizando la vectorización resultante de aplicar truncated SVD (disponible en sklearn) a la matriz de documento-término.\n",
        "3.  Transponer la matriz documento-término, esto resultará en la matriz término-documento que provee embeddings de palabras. Explorar similaridad entre términos.\n",
        "4.  Construir la matriz término-clase con las clases disponibles en 20 Newsgroups y con estos embeddings de palabras resultantes explorar similaridad entre términos.\n",
        "5.  Construir la matriz término-término utilizando una ventana de contexto. Para construir esta matriz serán útiles las funcionalidades de Keras make_sampling_table, skipgrams y el tokenizador de Keras. Explorar resultados de similaridad de términos con diferentes tamaños de contexto.\n",
        "6.  Con la matriz término-término construir la matriz de PPMI y factorizarla aplicando truncated SVD. Explorar resultados de similaridad término a término.\n"
      ],
      "metadata": {
        "id": "IcmLw4-nRAPL"
      }
    },
    {
      "cell_type": "code",
      "execution_count": 2,
      "metadata": {
        "id": "b_PYiY1KOD-0"
      },
      "outputs": [],
      "source": [
        "from sklearn.datasets import fetch_20newsgroups\n",
        "from sklearn.feature_extraction.text import CountVectorizer, TfidfVectorizer\n",
        "from sklearn.neighbors import NearestNeighbors\n",
        "from sklearn.decomposition import TruncatedSVD\n",
        "\n",
        "from keras.preprocessing.sequence import make_sampling_table, skipgrams\n",
        "from keras.preprocessing.text import Tokenizer\n",
        "\n",
        "import nltk\n",
        "from nltk.corpus import stopwords\n",
        "\n",
        "from scipy.sparse import csr_matrix,lil_matrix\n",
        "from matplotlib import pyplot as plt\n",
        "import numpy as np\n",
        "\n",
        "import helper"
      ]
    },
    {
      "cell_type": "code",
      "source": [
        "TNG_train = fetch_20newsgroups(subset=\"train\",remove=('headers', 'footers', 'quotes'))"
      ],
      "metadata": {
        "id": "yAuQAZ3iTFvj"
      },
      "execution_count": 3,
      "outputs": []
    },
    {
      "cell_type": "markdown",
      "source": [
        "#0 - EDA"
      ],
      "metadata": {
        "id": "B7PREkkFZA0S"
      }
    },
    {
      "cell_type": "code",
      "source": [
        "TNG_train.keys()"
      ],
      "metadata": {
        "colab": {
          "base_uri": "https://localhost:8080/"
        },
        "id": "0k_0IE_YTwSC",
        "outputId": "8510a1e9-0524-48ba-904e-3cead80dc912"
      },
      "execution_count": null,
      "outputs": [
        {
          "output_type": "execute_result",
          "data": {
            "text/plain": [
              "dict_keys(['data', 'filenames', 'target_names', 'target', 'DESCR'])"
            ]
          },
          "metadata": {},
          "execution_count": 33
        }
      ]
    },
    {
      "cell_type": "code",
      "source": [
        "len(TNG_train.data)"
      ],
      "metadata": {
        "colab": {
          "base_uri": "https://localhost:8080/"
        },
        "id": "6UR-45xfXh4I",
        "outputId": "219a72b4-a979-4bc6-87d4-9f54bdca1633"
      },
      "execution_count": null,
      "outputs": [
        {
          "output_type": "execute_result",
          "data": {
            "text/plain": [
              "11314"
            ]
          },
          "metadata": {},
          "execution_count": 46
        }
      ]
    },
    {
      "cell_type": "code",
      "source": [
        "TNG_train.target_names"
      ],
      "metadata": {
        "colab": {
          "base_uri": "https://localhost:8080/"
        },
        "id": "CmevGVROXj2n",
        "outputId": "d917fbaa-6184-4e17-f653-ede27a020fda"
      },
      "execution_count": null,
      "outputs": [
        {
          "output_type": "execute_result",
          "data": {
            "text/plain": [
              "['alt.atheism',\n",
              " 'comp.graphics',\n",
              " 'comp.os.ms-windows.misc',\n",
              " 'comp.sys.ibm.pc.hardware',\n",
              " 'comp.sys.mac.hardware',\n",
              " 'comp.windows.x',\n",
              " 'misc.forsale',\n",
              " 'rec.autos',\n",
              " 'rec.motorcycles',\n",
              " 'rec.sport.baseball',\n",
              " 'rec.sport.hockey',\n",
              " 'sci.crypt',\n",
              " 'sci.electronics',\n",
              " 'sci.med',\n",
              " 'sci.space',\n",
              " 'soc.religion.christian',\n",
              " 'talk.politics.guns',\n",
              " 'talk.politics.mideast',\n",
              " 'talk.politics.misc',\n",
              " 'talk.religion.misc']"
            ]
          },
          "metadata": {},
          "execution_count": 43
        }
      ]
    },
    {
      "cell_type": "code",
      "source": [
        "print(TNG_train.target_names[TNG_train.target[0]])\n",
        "print(TNG_train.data[0])"
      ],
      "metadata": {
        "colab": {
          "base_uri": "https://localhost:8080/"
        },
        "id": "lcYBKN6sYNYT",
        "outputId": "51771622-bed4-4451-f99b-09ae339a8f53"
      },
      "execution_count": null,
      "outputs": [
        {
          "output_type": "stream",
          "name": "stdout",
          "text": [
            "rec.autos\n",
            "I was wondering if anyone out there could enlighten me on this car I saw\n",
            "the other day. It was a 2-door sports car, looked to be from the late 60s/\n",
            "early 70s. It was called a Bricklin. The doors were really small. In addition,\n",
            "the front bumper was separate from the rest of the body. This is \n",
            "all I know. If anyone can tellme a model name, engine specs, years\n",
            "of production, where this car is made, history, or whatever info you\n",
            "have on this funky looking car, please e-mail.\n"
          ]
        }
      ]
    },
    {
      "cell_type": "code",
      "source": [
        "len(TNG_train.target)"
      ],
      "metadata": {
        "colab": {
          "base_uri": "https://localhost:8080/"
        },
        "id": "y1PHSTOXeVaX",
        "outputId": "4c70e51a-3683-4e37-c0c9-643d939d3acd"
      },
      "execution_count": null,
      "outputs": [
        {
          "output_type": "execute_result",
          "data": {
            "text/plain": [
              "11314"
            ]
          },
          "metadata": {},
          "execution_count": 63
        }
      ]
    },
    {
      "cell_type": "code",
      "source": [
        "targets, frequency = np.unique(TNG_train.target, return_counts=True)\n",
        "frequency = frequency/len(TNG_train.target)      # Normalizo\n",
        "plt.bar(TNG_train.target_names,frequency)\n",
        "plt.xticks(rotation=90)\n",
        "plt.ylabel('Frequency')\n",
        "plt.suptitle('Data Distribution')\n",
        "plt.show()"
      ],
      "metadata": {
        "colab": {
          "base_uri": "https://localhost:8080/",
          "height": 651
        },
        "id": "3PSI3Avebh_b",
        "outputId": "ad2c1834-4774-4c16-a996-afa78b4df13d"
      },
      "execution_count": 3,
      "outputs": [
        {
          "output_type": "display_data",
          "data": {
            "text/plain": [
              "<Figure size 640x480 with 1 Axes>"
            ],
            "image/png": "[encoded data removed]"
          },
          "metadata": {}
        }
      ]
    },
    {
      "cell_type": "markdown",
      "source": [
        "Se puede observar que las clases se encuentran balanceadas."
      ],
      "metadata": {
        "id": "2sr7omrQIHk4"
      }
    },
    {
      "cell_type": "code",
      "source": [
        "cv = TfidfVectorizer(max_df=1.0, min_df=20, max_features=None, stop_words=\"english\")\n",
        "TNG_cv = cv.fit_transform(TNG_train.data)       #La matriz de documento-término\n",
        "\n",
        "doc_freq = np.array(TNG_cv.astype(bool).sum(axis=0)).flatten()\n",
        "plt.hist(doc_freq, bins=100,log=True)\n",
        "plt.xlabel(\"Word index\")\n",
        "plt.ylabel(\"Number of appearances\")\n",
        "plt.show()"
      ],
      "metadata": {
        "colab": {
          "base_uri": "https://localhost:8080/",
          "height": 449
        },
        "id": "UCXNyqxrIgZ-",
        "outputId": "4739ee80-a190-496a-fd67-ef825dc58b79"
      },
      "execution_count": 6,
      "outputs": [
        {
          "output_type": "display_data",
          "data": {
            "text/plain": [
              "<Figure size 640x480 with 1 Axes>"
            ],
            "image/png": "[encoded data removed]"
          },
          "metadata": {}
        }
      ]
    },
    {
      "cell_type": "markdown",
      "source": [
        "#1a - TDF-IDF"
      ],
      "metadata": {
        "id": "bmWJPfuf2pWw"
      }
    },
    {
      "cell_type": "markdown",
      "source": [
        "##Matriz Documento-Término"
      ],
      "metadata": {
        "id": "Bj8Y8R2HXNdk"
      }
    },
    {
      "cell_type": "code",
      "source": [
        "cv = TfidfVectorizer(max_df=1.0, min_df=20, max_features=None, stop_words=\"english\")\n",
        "TNG_cv = cv.fit_transform(TNG_train.data)       #La matriz de documento-término"
      ],
      "metadata": {
        "id": "Z_c8bHtqTvH2"
      },
      "execution_count": null,
      "outputs": []
    },
    {
      "cell_type": "code",
      "source": [
        "TNG_cv.shape"
      ],
      "metadata": {
        "colab": {
          "base_uri": "https://localhost:8080/"
        },
        "id": "BBrKU3wVje0o",
        "outputId": "7a421425-bff9-4001-efd8-f0f135fb6ca0"
      },
      "execution_count": null,
      "outputs": [
        {
          "output_type": "execute_result",
          "data": {
            "text/plain": [
              "(11314, 6019)"
            ]
          },
          "metadata": {},
          "execution_count": 4
        }
      ]
    },
    {
      "cell_type": "code",
      "source": [
        "cv.get_feature_names_out()"
      ],
      "metadata": {
        "colab": {
          "base_uri": "https://localhost:8080/"
        },
        "id": "C5W2bfeAlFS8",
        "outputId": "b9167fee-b9b1-424f-8c10-535804ea4e1f"
      },
      "execution_count": null,
      "outputs": [
        {
          "output_type": "execute_result",
          "data": {
            "text/plain": [
              "array(['00', '000', '01', ..., 'zip', 'zone', 'zoom'], dtype=object)"
            ]
          },
          "metadata": {},
          "execution_count": 90
        }
      ]
    },
    {
      "cell_type": "code",
      "source": [
        "reduced_doc=20\n",
        "words = cv.get_feature_names_out()\n",
        "helper.DTMatrix(words, TNG_train, TNG_cv, reduced_doc)"
      ],
      "metadata": {
        "colab": {
          "base_uri": "https://localhost:8080/",
          "height": 531
        },
        "id": "w0uyhK_qlhNN",
        "outputId": "f854caf2-e85d-4da7-a9b2-c02f2e29cfe9"
      },
      "execution_count": null,
      "outputs": [
        {
          "output_type": "display_data",
          "data": {
            "text/plain": [
              "<Figure size 640x480 with 1 Axes>"
            ],
            "image/png": "[encoded data removed]"
          },
          "metadata": {}
        }
      ]
    },
    {
      "cell_type": "markdown",
      "source": [
        "##Similitud coseno"
      ],
      "metadata": {
        "id": "iPrvQWZFXTn-"
      }
    },
    {
      "cell_type": "code",
      "source": [
        "TNG_norm = (TNG_cv.toarray().T/(np.linalg.norm(TNG_cv.toarray(), axis=-1)+1e-8)).T\n",
        "cosines = np.dot(TNG_norm[0], TNG_norm.T)\n",
        "cosines"
      ],
      "metadata": {
        "colab": {
          "base_uri": "https://localhost:8080/"
        },
        "id": "OMciPe7CkrG6",
        "outputId": "0c043f64-7b5a-4bc1-91f3-6344b47c7b66"
      },
      "execution_count": null,
      "outputs": [
        {
          "output_type": "execute_result",
          "data": {
            "text/plain": [
              "array([0.99999998, 0.0123958 , 0.06448783, ..., 0.        , 0.        ,\n",
              "       0.03037182])"
            ]
          },
          "metadata": {},
          "execution_count": 6
        }
      ]
    },
    {
      "cell_type": "code",
      "source": [
        "docs_cmp = 150\n",
        "helper.sim_cos(cosines, TNG_train, docs_cmp)"
      ],
      "metadata": {
        "colab": {
          "base_uri": "https://localhost:8080/"
        },
        "id": "G6zThojYm5OE",
        "outputId": "69ec083b-ad3c-4159-d39f-8d6a8b01a5db"
      },
      "execution_count": null,
      "outputs": [
        {
          "output_type": "stream",
          "name": "stdout",
          "text": [
            "Documento elegido: \n",
            "\t rec.autos\n",
            "Mayoes similitud coseno con otros documentos:\n",
            "0.40156  rec.autos                  0.24838  rec.autos                  0.19177  rec.autos                 0.16300  comp.sys.mac.hardware      0.14345  rec.autos                \n",
            "0.39225  rec.autos                  0.24289  rec.autos                  0.18958  rec.autos                 0.16198  misc.forsale               0.14344  rec.autos                \n",
            "0.35485  rec.autos                  0.23293  rec.autos                  0.18767  rec.autos                 0.16176  rec.autos                  0.14322  rec.autos                \n",
            "0.33482  rec.autos                  0.23058  rec.autos                  0.18662  rec.autos                 0.16107  comp.sys.mac.hardware      0.14261  rec.autos                \n",
            "0.31303  rec.autos                  0.22813  rec.autos                  0.18525  rec.autos                 0.15923  rec.motorcycles            0.14222  sci.electronics          \n",
            "0.31250  rec.autos                  0.22676  rec.autos                  0.18492  rec.autos                 0.15862  misc.forsale               0.14203  rec.autos                \n",
            "0.30824  rec.autos                  0.22462  rec.autos                  0.18376  rec.autos                 0.15862  rec.autos                  0.14188  rec.autos                \n",
            "0.30179  rec.autos                  0.22385  rec.autos                  0.18359  rec.autos                 0.15699  rec.autos                  0.14186  rec.sport.hockey         \n",
            "0.30168  rec.autos                  0.21814  rec.autos                  0.18087  rec.autos                 0.15667  rec.autos                  0.14042  rec.motorcycles          \n",
            "0.30025  rec.autos                  0.21800  rec.motorcycles            0.17914  rec.autos                 0.15663  rec.autos                  0.14038  rec.autos                \n",
            "0.29775  talk.politics.misc         0.21641  rec.motorcycles            0.17867  misc.forsale              0.15493  rec.autos                  0.13984  rec.autos                \n",
            "0.29331  rec.autos                  0.21569  rec.autos                  0.17732  rec.autos                 0.15493  talk.religion.misc         0.13960  comp.os.ms-windows.misc  \n",
            "0.29186  rec.autos                  0.21453  rec.autos                  0.17718  rec.autos                 0.15348  rec.autos                  0.13840  comp.os.ms-windows.misc  \n",
            "0.28863  rec.motorcycles            0.21257  rec.autos                  0.17499  rec.autos                 0.15329  rec.autos                  0.13779  misc.forsale             \n",
            "0.28624  rec.autos                  0.21155  rec.autos                  0.17480  rec.autos                 0.15238  rec.motorcycles            0.13749  sci.electronics          \n",
            "0.28573  rec.autos                  0.21098  rec.autos                  0.17423  misc.forsale              0.15210  misc.forsale               0.13696  talk.politics.misc       \n",
            "0.28342  sci.electronics            0.21097  rec.autos                  0.17371  rec.autos                 0.15129  rec.autos                  0.13666  rec.autos                \n",
            "0.27649  misc.forsale               0.21087  rec.autos                  0.17327  rec.autos                 0.15104  rec.autos                  0.13572  rec.autos                \n",
            "0.27528  rec.autos                  0.20796  alt.atheism                0.17202  rec.autos                 0.15096  rec.autos                  0.13546  rec.autos                \n",
            "0.27058  alt.atheism                0.20608  rec.autos                  0.17172  rec.autos                 0.15079  rec.autos                  0.13534  rec.autos                \n",
            "0.26782  rec.autos                  0.20597  rec.autos                  0.17156  rec.autos                 0.15004  rec.autos                  0.13469  rec.autos                \n",
            "0.26644  rec.autos                  0.20517  rec.autos                  0.17079  rec.autos                 0.14920  rec.autos                  0.13438  rec.motorcycles          \n",
            "0.26391  rec.autos                  0.20027  sci.electronics            0.16881  rec.autos                 0.14799  misc.forsale               0.13407  rec.autos                \n",
            "0.26249  rec.autos                  0.19802  rec.autos                  0.16825  rec.autos                 0.14725  rec.autos                  0.13355  rec.autos                \n",
            "0.25608  rec.autos                  0.19784  rec.motorcycles            0.16705  rec.autos                 0.14667  rec.autos                  0.13341  talk.politics.mideast    \n",
            "0.25546  rec.autos                  0.19775  rec.autos                  0.16656  rec.autos                 0.14630  rec.autos                  0.13330  comp.os.ms-windows.misc  \n",
            "0.25525  rec.autos                  0.19715  rec.autos                  0.16615  rec.autos                 0.14614  rec.autos                  0.13325  rec.sport.baseball       \n",
            "0.25356  misc.forsale               0.19482  rec.autos                  0.16393  rec.motorcycles           0.14582  rec.autos                  0.13185  rec.autos                \n",
            "0.25052  rec.autos                  0.19391  rec.autos                  0.16343  misc.forsale              0.14511  rec.autos                  0.13151  rec.autos                \n",
            "0.24900  rec.autos                  0.19307  rec.autos                  0.16343  rec.motorcycles           0.14399  rec.motorcycles            0.13111  rec.autos                \n"
          ]
        }
      ]
    },
    {
      "cell_type": "markdown",
      "source": [
        "##Bigrama"
      ],
      "metadata": {
        "id": "5ZKdi06NZcNQ"
      }
    },
    {
      "cell_type": "code",
      "source": [
        "cv2 = TfidfVectorizer(ngram_range=(1,2), max_df=1.0, min_df=20, max_features=None, stop_words=\"english\")\n",
        "TNG_cv2 = cv2.fit_transform(TNG_train.data)       #La matriz de documento-término\n",
        "TNG_cv2.shape"
      ],
      "metadata": {
        "colab": {
          "base_uri": "https://localhost:8080/"
        },
        "id": "PauLHp58rqLU",
        "outputId": "602ae3f9-4bd3-4bdc-a2a5-231298cf77c2"
      },
      "execution_count": null,
      "outputs": [
        {
          "output_type": "execute_result",
          "data": {
            "text/plain": [
              "(11314, 6577)"
            ]
          },
          "metadata": {},
          "execution_count": 9
        }
      ]
    },
    {
      "cell_type": "code",
      "source": [
        "docs_cmp = 50\n",
        "TNG_norm2 = (TNG_cv2.toarray().T/(np.linalg.norm(TNG_cv2.toarray(), axis=-1)+1e-8)).T\n",
        "cosines2 = np.dot(TNG_norm2[0], TNG_norm2.T)\n",
        "helper.sim_cos(cosines2, TNG_train, docs_cmp)"
      ],
      "metadata": {
        "colab": {
          "base_uri": "https://localhost:8080/"
        },
        "id": "xzdBiKkfsi1k",
        "outputId": "95c9d9e0-0d54-4127-889e-f8f7f35729a9"
      },
      "execution_count": null,
      "outputs": [
        {
          "output_type": "stream",
          "name": "stdout",
          "text": [
            "Documento elegido: \n",
            "\t rec.autos\n",
            "Mayoes similitud coseno con otros documentos:\n",
            "0.39753  rec.autos                  0.29331  rec.autos                  0.26391  rec.autos                 0.24289  rec.autos                  0.21257  rec.autos                \n",
            "0.39225  rec.autos                  0.29236  rec.autos                  0.26208  rec.autos                 0.23736  rec.autos                  0.21193  rec.autos                \n",
            "0.34551  rec.autos                  0.28863  rec.motorcycles            0.25608  rec.autos                 0.23293  rec.autos                  0.21187  rec.autos                \n",
            "0.33184  rec.autos                  0.28860  rec.autos                  0.25546  rec.autos                 0.22676  rec.autos                  0.21099  rec.motorcycles          \n",
            "0.30688  rec.autos                  0.28358  rec.autos                  0.25505  rec.autos                 0.22500  rec.autos                  0.21097  rec.autos                \n",
            "0.30613  rec.autos                  0.27649  misc.forsale               0.25191  rec.autos                 0.22449  rec.autos                  0.20906  rec.autos                \n",
            "0.30316  rec.autos                  0.27528  rec.autos                  0.25132  rec.autos                 0.22385  rec.autos                  0.20796  alt.atheism              \n",
            "0.30168  rec.autos                  0.27058  alt.atheism                0.25070  misc.forsale              0.22255  rec.autos                  0.20697  rec.autos                \n",
            "0.30025  rec.autos                  0.26782  rec.autos                  0.25052  rec.autos                 0.21814  rec.autos                  0.20597  rec.autos                \n",
            "0.29381  talk.politics.misc         0.26714  sci.electronics            0.24900  rec.autos                 0.21800  rec.motorcycles            0.20584  rec.autos                \n"
          ]
        }
      ]
    },
    {
      "cell_type": "markdown",
      "source": [
        "Se puede observar que la similitud coseno disminuyó levemente. Se llegó a la conclusión de que verdaderamente no aporta la utilización de bigramas en este caso."
      ],
      "metadata": {
        "id": "491XK4pEJqiR"
      }
    },
    {
      "cell_type": "markdown",
      "source": [
        "##Trigrama"
      ],
      "metadata": {
        "id": "2xezpNTvtux3"
      }
    },
    {
      "cell_type": "code",
      "source": [
        "cv3 = TfidfVectorizer(ngram_range=(1,3), max_df=1.0, min_df=20, max_features=None, stop_words=\"english\")\n",
        "TNG_cv3 = cv3.fit_transform(TNG_train.data)       #La matriz de documento-término\n",
        "TNG_cv3.shape"
      ],
      "metadata": {
        "colab": {
          "base_uri": "https://localhost:8080/"
        },
        "id": "S3EqyYuitasG",
        "outputId": "7fb7662a-3366-4e9c-d41b-2e8ceafb58c1"
      },
      "execution_count": null,
      "outputs": [
        {
          "output_type": "execute_result",
          "data": {
            "text/plain": [
              "(11314, 6613)"
            ]
          },
          "metadata": {},
          "execution_count": 13
        }
      ]
    },
    {
      "cell_type": "code",
      "source": [
        "docs_cmp = 50\n",
        "TNG_norm3 = (TNG_cv3.toarray().T/(np.linalg.norm(TNG_cv3.toarray(), axis=-1)+1e-8)).T\n",
        "cosines3 = np.dot(TNG_norm3[0], TNG_norm3.T)\n",
        "helper.sim_cos(cosines3, TNG_train, docs_cmp)"
      ],
      "metadata": {
        "colab": {
          "base_uri": "https://localhost:8080/"
        },
        "id": "TTBcbKkQthMI",
        "outputId": "28e7060a-3a6a-41bf-f183-60cb2273e357"
      },
      "execution_count": null,
      "outputs": [
        {
          "output_type": "stream",
          "name": "stdout",
          "text": [
            "Documento elegido: \n",
            "\t rec.autos\n",
            "Mayoes similitud coseno con otros documentos:\n",
            "0.39753  rec.autos                  0.29331  rec.autos                  0.26391  rec.autos                 0.24289  rec.autos                  0.21257  rec.autos                \n",
            "0.39225  rec.autos                  0.29236  rec.autos                  0.26208  rec.autos                 0.23736  rec.autos                  0.21193  rec.autos                \n",
            "0.34551  rec.autos                  0.28863  rec.motorcycles            0.25608  rec.autos                 0.23293  rec.autos                  0.21187  rec.autos                \n",
            "0.33184  rec.autos                  0.28860  rec.autos                  0.25546  rec.autos                 0.22676  rec.autos                  0.21099  rec.motorcycles          \n",
            "0.30688  rec.autos                  0.28358  rec.autos                  0.25505  rec.autos                 0.22500  rec.autos                  0.21097  rec.autos                \n",
            "0.30613  rec.autos                  0.27649  misc.forsale               0.25191  rec.autos                 0.22449  rec.autos                  0.20906  rec.autos                \n",
            "0.30316  rec.autos                  0.27528  rec.autos                  0.25132  rec.autos                 0.22385  rec.autos                  0.20796  alt.atheism              \n",
            "0.30168  rec.autos                  0.27058  alt.atheism                0.25070  misc.forsale              0.22255  rec.autos                  0.20697  rec.autos                \n",
            "0.30025  rec.autos                  0.26782  rec.autos                  0.25052  rec.autos                 0.21814  rec.autos                  0.20597  rec.autos                \n",
            "0.29381  talk.politics.misc         0.26714  sci.electronics            0.24900  rec.autos                 0.21800  rec.motorcycles            0.20584  rec.autos                \n"
          ]
        }
      ]
    },
    {
      "cell_type": "markdown",
      "source": [
        "Se puede observar que se encuentra la misma cantidad de palabras que en la representación con hasta bigramas. Por lo tanto, no hay ningún trigrama relevante notorio en estos documentos."
      ],
      "metadata": {
        "id": "_UxKvYoXuijh"
      }
    },
    {
      "cell_type": "markdown",
      "source": [
        "##Cambio de threshold"
      ],
      "metadata": {
        "id": "YIaebPH_u2Ug"
      }
    },
    {
      "cell_type": "code",
      "source": [
        "cv_th = TfidfVectorizer(max_df=1.0, min_df=80, max_features=None, stop_words=\"english\")\n",
        "TNG_cv_th = cv_th.fit_transform(TNG_train.data)       #La matriz de documento-término\n",
        "TNG_cv_th.shape"
      ],
      "metadata": {
        "colab": {
          "base_uri": "https://localhost:8080/"
        },
        "id": "q9ujhgBCu7dr",
        "outputId": "5a469e12-ddd8-4f11-d0e4-7d0f96eb6764"
      },
      "execution_count": null,
      "outputs": [
        {
          "output_type": "execute_result",
          "data": {
            "text/plain": [
              "(11314, 1697)"
            ]
          },
          "metadata": {},
          "execution_count": 21
        }
      ]
    },
    {
      "cell_type": "code",
      "source": [
        "docs_cmp = 50\n",
        "TNG_norm_th = (TNG_cv_th.toarray().T/(np.linalg.norm(TNG_cv_th.toarray(), axis=-1)+1e-8)).T\n",
        "cosines_th = np.dot(TNG_norm_th[0], TNG_norm_th.T)\n",
        "helper.sim_cos(cosines_th, TNG_train, docs_cmp)"
      ],
      "metadata": {
        "colab": {
          "base_uri": "https://localhost:8080/"
        },
        "id": "PO04KbIgvGok",
        "outputId": "0f74d06e-30a3-47eb-f532-3e4ea3c4d90c"
      },
      "execution_count": null,
      "outputs": [
        {
          "output_type": "stream",
          "name": "stdout",
          "text": [
            "Documento elegido: \n",
            "\t rec.autos\n",
            "Mayoes similitud coseno con otros documentos:\n",
            "0.59767  rec.motorcycles            0.40461  rec.autos                  0.34902  sci.electronics           0.32377  rec.autos                  0.31347  rec.motorcycles          \n",
            "0.50108  rec.autos                  0.40184  rec.autos                  0.34893  rec.autos                 0.32309  rec.autos                  0.31325  rec.autos                \n",
            "0.47302  rec.autos                  0.38719  rec.autos                  0.34628  rec.autos                 0.32203  rec.motorcycles            0.31321  rec.autos                \n",
            "0.46746  rec.autos                  0.38331  alt.atheism                0.34416  rec.autos                 0.32190  rec.autos                  0.30792  rec.autos                \n",
            "0.45673  rec.autos                  0.36951  talk.politics.misc         0.34063  rec.autos                 0.31972  rec.autos                  0.30431  rec.autos                \n",
            "0.43708  rec.autos                  0.36646  rec.autos                  0.33381  rec.autos                 0.31929  rec.autos                  0.30287  rec.autos                \n",
            "0.43556  rec.autos                  0.36540  rec.autos                  0.33097  sci.electronics           0.31749  rec.autos                  0.30206  rec.autos                \n",
            "0.42690  rec.autos                  0.35488  rec.autos                  0.32726  misc.forsale              0.31630  rec.autos                  0.29897  rec.autos                \n",
            "0.42174  rec.autos                  0.35434  rec.autos                  0.32509  rec.autos                 0.31623  rec.autos                  0.29597  alt.atheism              \n",
            "0.41989  rec.autos                  0.35013  rec.autos                  0.32502  misc.forsale              0.31363  rec.autos                  0.29277  rec.autos                \n"
          ]
        }
      ]
    },
    {
      "cell_type": "markdown",
      "source": [
        "No solo aumentó la similitud, sino que también hubo una mejora en el aspecto de relación, ya que se relaciona al documento actual con más de su tipo que antes. Por lo tanto aumentar la cantidad de veces que una palabra debe aparecer para considerársela relevante, resultó efectivo."
      ],
      "metadata": {
        "id": "zMnI4DcDvs4F"
      }
    },
    {
      "cell_type": "code",
      "source": [
        "cv_th2 = TfidfVectorizer(max_df=0.04, min_df=20, max_features=None, stop_words=\"english\")\n",
        "TNG_cv_th2 = cv_th2.fit_transform(TNG_train.data)       #La matriz de documento-término\n",
        "TNG_cv_th2.shape"
      ],
      "metadata": {
        "colab": {
          "base_uri": "https://localhost:8080/"
        },
        "id": "OYZkdwe5b_gY",
        "outputId": "3d153a99-278d-456d-d5d4-299027a329d5"
      },
      "execution_count": null,
      "outputs": [
        {
          "output_type": "execute_result",
          "data": {
            "text/plain": [
              "(11314, 5877)"
            ]
          },
          "metadata": {},
          "execution_count": 24
        }
      ]
    },
    {
      "cell_type": "code",
      "source": [
        "docs_cmp = 50\n",
        "TNG_norm_th2 = (TNG_cv_th2.toarray().T/(np.linalg.norm(TNG_cv_th2.toarray(), axis=-1)+1e-8)).T\n",
        "cosines_th2 = np.dot(TNG_norm_th2[0], TNG_norm_th2.T)\n",
        "helper.sim_cos(cosines_th2, TNG_train, docs_cmp)"
      ],
      "metadata": {
        "colab": {
          "base_uri": "https://localhost:8080/"
        },
        "id": "8HTTMsrwcMZ7",
        "outputId": "1a79c525-7ad0-4fbc-e77a-0cc6cc4308e6"
      },
      "execution_count": null,
      "outputs": [
        {
          "output_type": "stream",
          "name": "stdout",
          "text": [
            "Documento elegido: \n",
            "\t rec.autos\n",
            "Mayoes similitud coseno con otros documentos:\n",
            "0.43831  rec.autos                  0.32620  rec.autos                  0.28980  rec.autos                 0.26477  rec.autos                  0.23436  rec.autos                \n",
            "0.42351  rec.autos                  0.31999  rec.autos                  0.28765  rec.autos                 0.26302  rec.autos                  0.23255  rec.autos                \n",
            "0.38501  rec.autos                  0.31637  rec.autos                  0.28733  rec.autos                 0.26243  rec.autos                  0.23224  rec.autos                \n",
            "0.35237  rec.autos                  0.31537  rec.autos                  0.28369  misc.forsale              0.26219  rec.autos                  0.23148  rec.autos                \n",
            "0.34369  talk.politics.misc         0.30945  rec.autos                  0.27996  rec.autos                 0.25585  rec.autos                  0.23015  rec.autos                \n",
            "0.33940  rec.autos                  0.30862  rec.motorcycles            0.27982  rec.autos                 0.25216  rec.autos                  0.22946  rec.motorcycles          \n",
            "0.33564  rec.autos                  0.29705  rec.autos                  0.27903  rec.autos                 0.24893  rec.autos                  0.22917  rec.autos                \n",
            "0.33464  rec.autos                  0.29574  rec.autos                  0.27394  rec.autos                 0.23926  rec.autos                  0.22858  rec.autos                \n",
            "0.33369  rec.autos                  0.29220  alt.atheism                0.27308  misc.forsale              0.23684  rec.autos                  0.22628  rec.autos                \n",
            "0.32767  sci.electronics            0.29081  rec.autos                  0.26622  rec.autos                 0.23482  rec.autos                  0.22620  rec.autos                \n"
          ]
        }
      ]
    },
    {
      "cell_type": "markdown",
      "source": [
        "Modificar la frecuencia máxima de aparición de un término para ser descartado no trajo mejoras. Solo se hizo notoria al disminuirla enormemente. Sin embargo, esto se considera un empeoramiento."
      ],
      "metadata": {
        "id": "KV3a8HkJKtNU"
      }
    },
    {
      "cell_type": "markdown",
      "source": [
        "#1b - CountVectorizer"
      ],
      "metadata": {
        "id": "bBg4OvLWvv4K"
      }
    },
    {
      "cell_type": "markdown",
      "source": [
        "##Matriz Documento-Término"
      ],
      "metadata": {
        "id": "9Ns9HzM10quo"
      }
    },
    {
      "cell_type": "code",
      "source": [
        "cv = CountVectorizer(max_df=1.0, min_df=20, max_features=None, stop_words=\"english\")\n",
        "TNG_cv = cv.fit_transform(TNG_train.data)       #La matriz de documento-término\n",
        "TNG_cv.shape"
      ],
      "metadata": {
        "colab": {
          "base_uri": "https://localhost:8080/"
        },
        "id": "Uy1eHvJX0quo",
        "outputId": "f6f3c0b8-948e-464a-90c1-7f90350b1f52"
      },
      "execution_count": null,
      "outputs": [
        {
          "output_type": "execute_result",
          "data": {
            "text/plain": [
              "(11314, 6019)"
            ]
          },
          "metadata": {},
          "execution_count": 3
        }
      ]
    },
    {
      "cell_type": "code",
      "source": [
        "reduced_doc=20\n",
        "words = cv.get_feature_names_out()\n",
        "helper.DTMatrix(words, TNG_train, TNG_cv, reduced_doc)"
      ],
      "metadata": {
        "colab": {
          "base_uri": "https://localhost:8080/",
          "height": 531
        },
        "outputId": "7958c4c1-e508-4bc3-d693-7e999c6d75d9",
        "id": "1PzUqbTz0qup"
      },
      "execution_count": null,
      "outputs": [
        {
          "output_type": "display_data",
          "data": {
            "text/plain": [
              "<Figure size 640x480 with 1 Axes>"
            ],
            "image/png": "[encoded data removed]"
          },
          "metadata": {}
        }
      ]
    },
    {
      "cell_type": "markdown",
      "source": [
        "##Similitud coseno"
      ],
      "metadata": {
        "id": "kNWGm0GJ0qup"
      }
    },
    {
      "cell_type": "code",
      "source": [
        "TNG_norm = (TNG_cv.toarray().T/(np.linalg.norm(TNG_cv.toarray(), axis=-1)+1e-8)).T\n",
        "cosines = np.dot(TNG_norm[0], TNG_norm.T)\n",
        "cosines"
      ],
      "metadata": {
        "colab": {
          "base_uri": "https://localhost:8080/"
        },
        "outputId": "382cc166-cca0-4272-f120-7abe61a94df6",
        "id": "K5YbILBI0qup"
      },
      "execution_count": null,
      "outputs": [
        {
          "output_type": "execute_result",
          "data": {
            "text/plain": [
              "array([1.        , 0.0211952 , 0.09869275, ..., 0.        , 0.        ,\n",
              "       0.02686077])"
            ]
          },
          "metadata": {},
          "execution_count": 28
        }
      ]
    },
    {
      "cell_type": "code",
      "source": [
        "docs_cmp = 150\n",
        "helper.sim_cos(cosines, TNG_train, docs_cmp)"
      ],
      "metadata": {
        "colab": {
          "base_uri": "https://localhost:8080/"
        },
        "outputId": "b90a5453-e70f-437b-f9c0-53c1563ba9b0",
        "id": "C5a5lHZb0qup"
      },
      "execution_count": null,
      "outputs": [
        {
          "output_type": "stream",
          "name": "stdout",
          "text": [
            "Documento elegido: \n",
            "\t rec.autos\n",
            "Mayoes similitud coseno con otros documentos:\n",
            "0.45661  rec.autos                  0.29096  rec.autos                  0.23817  rec.autos                 0.20620  rec.autos                  0.17817  misc.forsale             \n",
            "0.45175  rec.autos                  0.28700  alt.atheism                0.23757  misc.forsale              0.20574  sci.electronics            0.17817  rec.motorcycles          \n",
            "0.41473  rec.autos                  0.28365  rec.autos                  0.23747  sci.electronics           0.20324  rec.autos                  0.17817  rec.autos                \n",
            "0.40993  rec.autos                  0.28201  rec.autos                  0.23538  rec.autos                 0.20294  rec.autos                  0.17817  rec.sport.hockey         \n",
            "0.40370  rec.autos                  0.28135  rec.motorcycles            0.23474  rec.motorcycles           0.20247  rec.autos                  0.17817  rec.sport.hockey         \n",
            "0.39036  rec.motorcycles            0.27954  rec.autos                  0.23328  rec.autos                 0.20238  misc.forsale               0.17700  rec.autos                \n",
            "0.38576  rec.autos                  0.27775  rec.autos                  0.23328  rec.autos                 0.20203  rec.autos                  0.17700  rec.autos                \n",
            "0.37669  rec.autos                  0.27775  rec.autos                  0.23146  rec.motorcycles           0.20057  misc.forsale               0.17700  rec.autos                \n",
            "0.37451  rec.autos                  0.27651  rec.motorcycles            0.23028  rec.autos                 0.20025  rec.autos                  0.17647  talk.religion.misc       \n",
            "0.36681  rec.autos                  0.27603  rec.autos                  0.22678  rec.autos                 0.19920  rec.autos                  0.17545  rec.autos                \n",
            "0.35834  rec.autos                  0.27603  rec.autos                  0.22401  rec.autos                 0.19739  rec.motorcycles            0.17522  rec.autos                \n",
            "0.35635  alt.atheism                0.27297  rec.autos                  0.22272  rec.autos                 0.19640  rec.autos                  0.17496  rec.autos                \n",
            "0.35371  rec.autos                  0.27003  rec.autos                  0.22171  rec.autos                 0.19518  rec.autos                  0.17360  rec.autos                \n",
            "0.34542  rec.autos                  0.26937  rec.autos                  0.22171  rec.autos                 0.19518  rec.autos                  0.17359  rec.autos                \n",
            "0.34471  rec.autos                  0.26726  rec.autos                  0.22171  rec.motorcycles           0.19492  rec.autos                  0.17285  comp.sys.mac.hardware    \n",
            "0.34157  rec.autos                  0.26557  rec.autos                  0.21986  rec.autos                 0.19305  comp.os.ms-windows.misc    0.17252  sci.electronics          \n",
            "0.33800  talk.politics.misc         0.26366  rec.autos                  0.21822  rec.autos                 0.19288  rec.autos                  0.17225  rec.autos                \n",
            "0.32951  rec.autos                  0.26207  rec.autos                  0.21822  rec.autos                 0.18976  misc.forsale               0.17078  misc.forsale             \n",
            "0.32733  rec.autos                  0.26026  rec.autos                  0.21783  rec.autos                 0.18898  rec.autos                  0.16974  rec.autos                \n",
            "0.32733  misc.forsale               0.25788  rec.autos                  0.21758  rec.autos                 0.18825  rec.motorcycles            0.16973  rec.autos                \n",
            "0.31860  sci.electronics            0.25678  rec.autos                  0.21583  rec.autos                 0.18712  rec.autos                  0.16836  rec.autos                \n",
            "0.31717  rec.autos                  0.25198  rec.autos                  0.21525  misc.forsale              0.18712  rec.autos                  0.16667  rec.autos                \n",
            "0.31662  rec.autos                  0.24968  rec.autos                  0.21489  rec.autos                 0.18610  rec.autos                  0.16575  rec.motorcycles          \n",
            "0.31652  rec.autos                  0.24813  rec.autos                  0.21398  rec.autos                 0.18524  rec.autos                  0.16496  sci.crypt                \n",
            "0.31138  rec.autos                  0.24708  rec.autos                  0.21398  rec.autos                 0.18312  rec.autos                  0.16449  talk.politics.misc       \n",
            "0.30861  rec.autos                  0.24550  rec.autos                  0.20966  rec.autos                 0.18197  rec.autos                  0.16366  comp.os.ms-windows.misc  \n",
            "0.30133  rec.autos                  0.24550  rec.autos                  0.20966  rec.autos                 0.18185  rec.motorcycles            0.16350  rec.autos                \n",
            "0.29701  misc.forsale               0.24435  rec.autos                  0.20913  rec.autos                 0.17964  rec.autos                  0.16303  rec.autos                \n",
            "0.29608  rec.autos                  0.24019  rec.autos                  0.20787  rec.autos                 0.17911  misc.forsale               0.16258  rec.autos                \n",
            "0.29328  rec.autos                  0.23905  rec.autos                  0.20620  rec.autos                 0.17854  misc.forsale               0.16209  rec.motorcycles          \n"
          ]
        }
      ]
    },
    {
      "cell_type": "markdown",
      "source": [
        "La similitud aumentó respecto al uso de TDF-IDF. Sin embargo la confusión entre documentos de distintos tipos no se modificó. Por lo tanto, no se puede considerar realmente una mejora."
      ],
      "metadata": {
        "id": "OKMeu2rRLPQc"
      }
    },
    {
      "cell_type": "markdown",
      "source": [
        "##Bigrama"
      ],
      "metadata": {
        "id": "Xz3VRWZS0qup"
      }
    },
    {
      "cell_type": "code",
      "source": [
        "cv2 = CountVectorizer(ngram_range=(1,2), max_df=1.0, min_df=20, max_features=None, stop_words=\"english\")\n",
        "TNG_cv2 = cv2.fit_transform(TNG_train.data)       #La matriz de documento-término\n",
        "TNG_cv2.shape"
      ],
      "metadata": {
        "colab": {
          "base_uri": "https://localhost:8080/"
        },
        "outputId": "a4890e14-5af3-4ae6-f9ec-02d9e9e0dff4",
        "id": "5XeLwq7u0qup"
      },
      "execution_count": null,
      "outputs": [
        {
          "output_type": "execute_result",
          "data": {
            "text/plain": [
              "(11314, 6577)"
            ]
          },
          "metadata": {},
          "execution_count": 34
        }
      ]
    },
    {
      "cell_type": "code",
      "source": [
        "docs_cmp = 50\n",
        "TNG_norm2 = (TNG_cv2.toarray().T/(np.linalg.norm(TNG_cv2.toarray(), axis=-1)+1e-8)).T\n",
        "cosines2 = np.dot(TNG_norm2[0], TNG_norm2.T)\n",
        "helper.sim_cos(cosines2, TNG_train, docs_cmp)"
      ],
      "metadata": {
        "colab": {
          "base_uri": "https://localhost:8080/"
        },
        "outputId": "36139a3a-7765-4dd3-deb3-302e0b978372",
        "id": "jhqCPyPj0quq"
      },
      "execution_count": null,
      "outputs": [
        {
          "output_type": "stream",
          "name": "stdout",
          "text": [
            "Documento elegido: \n",
            "\t rec.autos\n",
            "Mayoes similitud coseno con otros documentos:\n",
            "0.45661  rec.autos                  0.35635  alt.atheism                0.31652  rec.autos                 0.29096  rec.autos                  0.27201  rec.motorcycles          \n",
            "0.44751  rec.autos                  0.35512  rec.autos                  0.31497  rec.autos                 0.28700  alt.atheism                0.27003  rec.autos                \n",
            "0.40867  rec.autos                  0.35371  rec.autos                  0.31053  sci.electronics           0.28135  rec.motorcycles            0.26886  rec.autos                \n",
            "0.40789  rec.autos                  0.34471  rec.autos                  0.30952  rec.autos                 0.28124  rec.autos                  0.26622  rec.autos                \n",
            "0.39682  rec.autos                  0.34348  rec.autos                  0.30861  rec.autos                 0.27954  rec.autos                  0.26452  rec.autos                \n",
            "0.39036  rec.motorcycles            0.33572  talk.politics.misc         0.30861  rec.autos                 0.27915  rec.autos                  0.26370  rec.autos                \n",
            "0.38576  rec.autos                  0.32733  misc.forsale               0.30133  rec.autos                 0.27775  rec.autos                  0.26041  rec.autos                \n",
            "0.37451  rec.autos                  0.32567  rec.autos                  0.29608  rec.autos                 0.27775  rec.autos                  0.25989  rec.autos                \n",
            "0.37170  rec.autos                  0.32398  rec.autos                  0.29513  misc.forsale              0.27603  rec.autos                  0.25977  rec.autos                \n",
            "0.35990  rec.autos                  0.32233  rec.autos                  0.29328  rec.autos                 0.27603  rec.autos                  0.25788  rec.autos                \n"
          ]
        }
      ]
    },
    {
      "cell_type": "markdown",
      "source": [
        "No se observó mejora alguna. Por lo tanto, no hay ningún bigrama relevante notorio en estos documentos."
      ],
      "metadata": {
        "id": "vmfQuShBM8xo"
      }
    },
    {
      "cell_type": "markdown",
      "source": [
        "##Trigrama"
      ],
      "metadata": {
        "id": "vT6LhcLu0quq"
      }
    },
    {
      "cell_type": "code",
      "source": [
        "cv3 = CountVectorizer(ngram_range=(1,3), max_df=1.0, min_df=20, max_features=None, stop_words=\"english\")\n",
        "TNG_cv3 = cv3.fit_transform(TNG_train.data)       #La matriz de documento-término\n",
        "TNG_cv3.shape"
      ],
      "metadata": {
        "colab": {
          "base_uri": "https://localhost:8080/"
        },
        "outputId": "0f387ce0-5c31-4d57-81c8-fa15b7763123",
        "id": "dqOg6_xT0quq"
      },
      "execution_count": null,
      "outputs": [
        {
          "output_type": "execute_result",
          "data": {
            "text/plain": [
              "(11314, 6613)"
            ]
          },
          "metadata": {},
          "execution_count": 36
        }
      ]
    },
    {
      "cell_type": "code",
      "source": [
        "docs_cmp = 50\n",
        "TNG_norm3 = (TNG_cv3.toarray().T/(np.linalg.norm(TNG_cv3.toarray(), axis=-1)+1e-8)).T\n",
        "cosines3 = np.dot(TNG_norm3[0], TNG_norm3.T)\n",
        "helper.sim_cos(cosines3, TNG_train, docs_cmp)"
      ],
      "metadata": {
        "colab": {
          "base_uri": "https://localhost:8080/"
        },
        "outputId": "7c3bfe07-ed04-47ec-c8e7-5cde89d623fa",
        "id": "y9C8FF1P0quq"
      },
      "execution_count": null,
      "outputs": [
        {
          "output_type": "stream",
          "name": "stdout",
          "text": [
            "Documento elegido: \n",
            "\t rec.autos\n",
            "Mayoes similitud coseno con otros documentos:\n",
            "0.45661  rec.autos                  0.35635  alt.atheism                0.31652  rec.autos                 0.29096  rec.autos                  0.27201  rec.motorcycles          \n",
            "0.44751  rec.autos                  0.35512  rec.autos                  0.31497  rec.autos                 0.28700  alt.atheism                0.27003  rec.autos                \n",
            "0.40867  rec.autos                  0.35371  rec.autos                  0.31053  sci.electronics           0.28135  rec.motorcycles            0.26886  rec.autos                \n",
            "0.40789  rec.autos                  0.34471  rec.autos                  0.30952  rec.autos                 0.28124  rec.autos                  0.26622  rec.autos                \n",
            "0.39682  rec.autos                  0.34348  rec.autos                  0.30861  rec.autos                 0.27954  rec.autos                  0.26452  rec.autos                \n",
            "0.39036  rec.motorcycles            0.33572  talk.politics.misc         0.30861  rec.autos                 0.27915  rec.autos                  0.26370  rec.autos                \n",
            "0.38576  rec.autos                  0.32733  misc.forsale               0.30133  rec.autos                 0.27775  rec.autos                  0.26041  rec.autos                \n",
            "0.37451  rec.autos                  0.32567  rec.autos                  0.29608  rec.autos                 0.27775  rec.autos                  0.25989  rec.autos                \n",
            "0.37170  rec.autos                  0.32398  rec.autos                  0.29513  misc.forsale              0.27603  rec.autos                  0.25977  rec.autos                \n",
            "0.35990  rec.autos                  0.32233  rec.autos                  0.29328  rec.autos                 0.27603  rec.autos                  0.25788  rec.autos                \n"
          ]
        }
      ]
    },
    {
      "cell_type": "markdown",
      "source": [
        "Se puede observar que se encuentra la misma cantidad de palabras que en la representación con hasta bigramas. Por lo tanto, no hay ningún trigrama relevante notorio en estos documentos."
      ],
      "metadata": {
        "id": "Uj2zjyKI0quq"
      }
    },
    {
      "cell_type": "markdown",
      "source": [
        "##Cambio de threshold"
      ],
      "metadata": {
        "id": "UxS6cVIG0quq"
      }
    },
    {
      "cell_type": "code",
      "source": [
        "cv_th = CountVectorizer(max_df=1.0, min_df=80, max_features=None, stop_words=\"english\")\n",
        "TNG_cv_th = cv_th.fit_transform(TNG_train.data)       #La matriz de documento-término\n",
        "TNG_cv_th.shape"
      ],
      "metadata": {
        "colab": {
          "base_uri": "https://localhost:8080/"
        },
        "outputId": "7796c92a-f322-474d-b3ec-6ff121508c84",
        "id": "veHZvQx30qur"
      },
      "execution_count": null,
      "outputs": [
        {
          "output_type": "execute_result",
          "data": {
            "text/plain": [
              "(11314, 1697)"
            ]
          },
          "metadata": {},
          "execution_count": 38
        }
      ]
    },
    {
      "cell_type": "code",
      "source": [
        "docs_cmp = 50\n",
        "TNG_norm_th = (TNG_cv_th.toarray().T/(np.linalg.norm(TNG_cv_th.toarray(), axis=-1)+1e-8)).T\n",
        "cosines_th = np.dot(TNG_norm_th[0], TNG_norm_th.T)\n",
        "helper.sim_cos(cosines_th, TNG_train, docs_cmp)"
      ],
      "metadata": {
        "colab": {
          "base_uri": "https://localhost:8080/"
        },
        "outputId": "396c53c4-9398-4460-8c62-455df26698d1",
        "id": "rmYuHDym0qur"
      },
      "execution_count": null,
      "outputs": [
        {
          "output_type": "stream",
          "name": "stdout",
          "text": [
            "Documento elegido: \n",
            "\t rec.autos\n",
            "Mayoes similitud coseno con otros documentos:\n",
            "0.58038  rec.motorcycles            0.43259  alt.atheism                0.37463  rec.autos                 0.34684  alt.atheism                0.32787  rec.autos                \n",
            "0.50871  rec.autos                  0.42656  rec.autos                  0.37280  rec.autos                 0.34684  sci.electronics            0.32501  rec.autos                \n",
            "0.50077  rec.autos                  0.41761  rec.autos                  0.35909  rec.autos                 0.34472  rec.motorcycles            0.32444  rec.autos                \n",
            "0.49161  rec.autos                  0.41037  rec.autos                  0.35410  misc.forsale              0.34412  rec.autos                  0.32444  rec.autos                \n",
            "0.48525  rec.autos                  0.40493  rec.autos                  0.35410  sci.electronics           0.34412  rec.autos                  0.32444  rec.autos                \n",
            "0.47271  rec.autos                  0.40226  rec.autos                  0.34998  rec.motorcycles           0.34379  rec.autos                  0.31951  rec.autos                \n",
            "0.46829  rec.autos                  0.38822  rec.autos                  0.34986  rec.autos                 0.33946  misc.forsale               0.31579  rec.autos                \n",
            "0.46169  rec.autos                  0.38676  rec.autos                  0.34901  rec.autos                 0.33495  rec.autos                  0.31476  rec.autos                \n",
            "0.44280  rec.autos                  0.38177  rec.autos                  0.34787  rec.autos                 0.33486  rec.autos                  0.31335  rec.autos                \n",
            "0.43264  rec.autos                  0.37594  talk.politics.misc         0.34772  rec.autos                 0.33424  rec.autos                  0.31127  rec.autos                \n"
          ]
        }
      ]
    },
    {
      "cell_type": "markdown",
      "source": [
        "No solo aumentó la similitud, sino que también hubo una mejora en el aspecto de relación, ya que se relaciona al documento actual con más de su tipo que antes. Por lo tanto, aumentar la cantidad de veces que una palabra debe aparecer para considerársela relevante, resultó efectivo."
      ],
      "metadata": {
        "id": "cfeWehUO0qur"
      }
    },
    {
      "cell_type": "markdown",
      "source": [
        "#2 - Truncated SVD"
      ],
      "metadata": {
        "id": "jzRXwLae2RJi"
      }
    },
    {
      "cell_type": "markdown",
      "source": [
        "##TDF-IDF"
      ],
      "metadata": {
        "id": "yKuQBXM_4YKf"
      }
    },
    {
      "cell_type": "code",
      "source": [
        "cv = TfidfVectorizer(ngram_range=(1,2), max_df=1.0, min_df=20, max_features=None, stop_words=\"english\")\n",
        "TNG_cv = cv.fit_transform(TNG_train.data)\n",
        "TNG_cv.shape"
      ],
      "metadata": {
        "colab": {
          "base_uri": "https://localhost:8080/"
        },
        "id": "Uaxh3LvG2Sfd",
        "outputId": "e5b52115-76bc-4a0d-a6f1-b56a371e3516"
      },
      "execution_count": null,
      "outputs": [
        {
          "output_type": "execute_result",
          "data": {
            "text/plain": [
              "(11314, 6577)"
            ]
          },
          "metadata": {},
          "execution_count": 3
        }
      ]
    },
    {
      "cell_type": "code",
      "source": [
        "red = TruncatedSVD(n_components=300)\n",
        "TNG_cv_red = red.fit_transform(TNG_cv)\n",
        "TNG_cv_red.shape"
      ],
      "metadata": {
        "colab": {
          "base_uri": "https://localhost:8080/"
        },
        "id": "olKglSkl3FnE",
        "outputId": "da95936f-8e77-42e2-a2a9-0eb7caa0df2a"
      },
      "execution_count": null,
      "outputs": [
        {
          "output_type": "execute_result",
          "data": {
            "text/plain": [
              "(11314, 300)"
            ]
          },
          "metadata": {},
          "execution_count": 4
        }
      ]
    },
    {
      "cell_type": "code",
      "source": [
        "TNG_norm = (TNG_cv_red.T/(np.linalg.norm(TNG_cv_red, axis=-1)+1e-8)).T\n",
        "cosines = np.dot(TNG_norm[0], TNG_norm.T)\n",
        "\n",
        "helper.sim_cos(cosines, TNG_train, docs_cmp=50)"
      ],
      "metadata": {
        "colab": {
          "base_uri": "https://localhost:8080/"
        },
        "id": "TxP4aaC-3k-A",
        "outputId": "864c03fa-7ce2-4660-f62c-39bc05bd4544"
      },
      "execution_count": null,
      "outputs": [
        {
          "output_type": "stream",
          "name": "stdout",
          "text": [
            "Documento elegido: \n",
            "\t rec.autos\n",
            "Mayoes similitud coseno con otros documentos:\n",
            "0.74269  rec.motorcycles            0.66271  rec.autos                  0.60464  rec.autos                 0.56132  rec.autos                  0.53358  rec.autos                \n",
            "0.71461  rec.autos                  0.65804  rec.autos                  0.59290  rec.autos                 0.55645  rec.autos                  0.53279  rec.autos                \n",
            "0.70467  rec.autos                  0.65769  rec.autos                  0.59288  rec.autos                 0.55316  rec.autos                  0.53227  rec.autos                \n",
            "0.70181  rec.autos                  0.65735  rec.autos                  0.59131  rec.autos                 0.54903  rec.autos                  0.53167  misc.forsale             \n",
            "0.69857  rec.autos                  0.64700  rec.autos                  0.58645  rec.autos                 0.54870  rec.autos                  0.52629  rec.autos                \n",
            "0.67721  rec.autos                  0.64408  alt.atheism                0.58262  rec.autos                 0.54644  rec.autos                  0.52569  misc.forsale             \n",
            "0.67303  rec.autos                  0.64034  rec.autos                  0.58170  talk.politics.misc        0.54594  rec.autos                  0.52557  sci.electronics          \n",
            "0.67223  rec.autos                  0.61779  rec.autos                  0.57896  alt.atheism               0.54393  rec.autos                  0.52440  rec.autos                \n",
            "0.66949  rec.autos                  0.61239  rec.autos                  0.56916  rec.motorcycles           0.54243  rec.autos                  0.52149  rec.autos                \n",
            "0.66545  rec.autos                  0.60832  rec.autos                  0.56215  rec.autos                 0.54023  rec.autos                  0.51888  rec.autos                \n"
          ]
        }
      ]
    },
    {
      "cell_type": "markdown",
      "source": [
        "Se puede obsevar que al realizar la reducción de dimensionalidad, aumentó notablemente la similitud coseno."
      ],
      "metadata": {
        "id": "iQ_Cv6NMNhm3"
      }
    },
    {
      "cell_type": "markdown",
      "source": [
        "###Cambio de threshold"
      ],
      "metadata": {
        "id": "F9QqS2DN5NC0"
      }
    },
    {
      "cell_type": "code",
      "source": [
        "cv_th = TfidfVectorizer(ngram_range=(1,2), max_df=0.5, min_df=100, max_features=None, stop_words=\"english\")\n",
        "TNG_cv_th = cv_th.fit_transform(TNG_train.data)\n",
        "\n",
        "red = TruncatedSVD(n_components=300)\n",
        "TNG_cv_red_th = red.fit_transform(TNG_cv_th)\n",
        "\n",
        "TNG_norm_th = (TNG_cv_red_th.T/(np.linalg.norm(TNG_cv_red_th, axis=-1)+1e-8)).T\n",
        "cosines = np.dot(TNG_norm_th[0], TNG_norm_th.T)\n",
        "\n",
        "helper.sim_cos(cosines, TNG_train, docs_cmp=50)"
      ],
      "metadata": {
        "colab": {
          "base_uri": "https://localhost:8080/"
        },
        "outputId": "3929b332-d4a2-464b-bb36-2faf7d4c638d",
        "id": "_Ok-dL4m5NC7"
      },
      "execution_count": null,
      "outputs": [
        {
          "output_type": "stream",
          "name": "stdout",
          "text": [
            "Documento elegido: \n",
            "\t rec.autos\n",
            "Mayoes similitud coseno con otros documentos:\n",
            "0.73168  rec.motorcycles            0.65208  rec.autos                  0.59233  rec.autos                 0.54366  rec.autos                  0.53478  rec.autos                \n",
            "0.71682  rec.autos                  0.65050  alt.atheism                0.58962  rec.autos                 0.54190  rec.autos                  0.53151  rec.autos                \n",
            "0.71009  rec.autos                  0.64754  rec.autos                  0.57460  rec.autos                 0.54184  rec.autos                  0.52882  rec.autos                \n",
            "0.69824  rec.autos                  0.63331  rec.autos                  0.56382  rec.autos                 0.54178  rec.autos                  0.52550  sci.electronics          \n",
            "0.69372  rec.autos                  0.61308  rec.autos                  0.55703  talk.politics.misc        0.54147  rec.autos                  0.52239  rec.autos                \n",
            "0.68969  rec.autos                  0.60787  rec.autos                  0.55300  rec.autos                 0.54126  rec.autos                  0.52044  rec.autos                \n",
            "0.68803  rec.autos                  0.60391  rec.autos                  0.55275  rec.autos                 0.54043  rec.autos                  0.51419  rec.autos                \n",
            "0.68493  rec.autos                  0.60374  rec.autos                  0.55168  alt.atheism               0.53925  misc.forsale               0.51329  rec.autos                \n",
            "0.67739  rec.autos                  0.59813  rec.autos                  0.54957  rec.autos                 0.53641  rec.autos                  0.51286  rec.autos                \n",
            "0.65472  rec.autos                  0.59582  rec.autos                  0.54925  rec.autos                 0.53551  rec.autos                  0.51014  rec.autos                \n"
          ]
        }
      ]
    },
    {
      "cell_type": "markdown",
      "source": [
        "Se puede observar como este cambio de threshold produjo una mejora en el aspecto de relación, ya que se relaciona al documento actual con mas de su tipo que antes."
      ],
      "metadata": {
        "id": "5ZAAMdUVN1kE"
      }
    },
    {
      "cell_type": "markdown",
      "source": [
        "###Cambio de número de componentes"
      ],
      "metadata": {
        "id": "YZVY0jhj6Za_"
      }
    },
    {
      "cell_type": "code",
      "source": [
        "cv_nc = TfidfVectorizer(ngram_range=(1,2), max_df=0.7, min_df=20, max_features=None, stop_words=\"english\")\n",
        "TNG_cv_nc = cv_nc.fit_transform(TNG_train.data)\n",
        "\n",
        "red = TruncatedSVD(n_components=30)\n",
        "TNG_cv_red_nc = red.fit_transform(TNG_cv_nc)\n",
        "\n",
        "TNG_norm_nc = (TNG_cv_red_nc.T/(np.linalg.norm(TNG_cv_red_nc, axis=-1)+1e-8)).T\n",
        "cosines = np.dot(TNG_norm_nc[0], TNG_norm_nc.T)\n",
        "\n",
        "\n",
        "docs_cmp = 50\n",
        "helper.sim_cos(cosines, TNG_train, docs_cmp)"
      ],
      "metadata": {
        "colab": {
          "base_uri": "https://localhost:8080/"
        },
        "id": "TY2xqy8j6fc_",
        "outputId": "2b6652df-a639-4683-8839-0225c1e3eafa"
      },
      "execution_count": null,
      "outputs": [
        {
          "output_type": "stream",
          "name": "stdout",
          "text": [
            "Documento elegido: \n",
            "\t rec.autos\n",
            "Mayoes similitud coseno con otros documentos:\n",
            "0.97813  rec.autos                  0.95647  rec.autos                  0.94406  rec.autos                 0.92200  rec.autos                  0.90709  rec.autos                \n",
            "0.97037  rec.autos                  0.95551  rec.autos                  0.94276  rec.autos                 0.91588  rec.autos                  0.90556  rec.autos                \n",
            "0.96714  rec.autos                  0.95484  rec.autos                  0.94085  rec.autos                 0.91579  rec.autos                  0.90409  rec.autos                \n",
            "0.96369  rec.autos                  0.95405  rec.autos                  0.93970  rec.autos                 0.91576  sci.electronics            0.89860  rec.motorcycles          \n",
            "0.96175  rec.autos                  0.95148  rec.autos                  0.93472  rec.autos                 0.91231  rec.autos                  0.89708  rec.autos                \n",
            "0.96105  rec.autos                  0.95148  alt.atheism                0.93405  rec.autos                 0.91168  rec.autos                  0.89621  misc.forsale             \n",
            "0.96062  rec.autos                  0.95076  rec.autos                  0.93248  rec.autos                 0.91165  rec.autos                  0.89604  rec.autos                \n",
            "0.96058  rec.autos                  0.95064  rec.autos                  0.93052  rec.autos                 0.91164  rec.autos                  0.89587  rec.motorcycles          \n",
            "0.95907  rec.autos                  0.94915  rec.sport.hockey           0.92541  rec.motorcycles           0.91072  rec.autos                  0.88960  talk.politics.misc       \n",
            "0.95879  rec.autos                  0.94839  alt.atheism                0.92288  rec.autos                 0.90867  rec.motorcycles            0.88913  rec.autos                \n"
          ]
        }
      ]
    },
    {
      "cell_type": "markdown",
      "source": [
        "No solo aumentó la similitud enormemente, sino que también hubo una mejora en el aspecto de relación, ya que se relaciona al documento actual con más de su tipo que antes. Por lo que trabajar con una dimensionalidad más reducida, en este caso  produjo una gran mejora."
      ],
      "metadata": {
        "id": "Y5_8PbLNOfnG"
      }
    },
    {
      "cell_type": "code",
      "source": [
        "feature_names = cv_nc.get_feature_names_out()\n",
        "\n",
        "components = red.components_\n",
        "\n",
        "for i, component in enumerate(components):\n",
        "    top_features_idx = component.argsort()[::-1][:10]  # Tomar los índices de las 10 mejores características\n",
        "    top_features = [feature_names[idx] for idx in top_features_idx]\n",
        "    print(f\"Componente {i+1}: {top_features}\")"
      ],
      "metadata": {
        "colab": {
          "base_uri": "https://localhost:8080/"
        },
        "id": "YhyhfO8x66aO",
        "outputId": "a8580937-bf40-4ff2-d4e5-9771be86fd5c"
      },
      "execution_count": null,
      "outputs": [
        {
          "output_type": "stream",
          "name": "stdout",
          "text": [
            "Componente 1: ['don', 'just', 'like', 'know', 'people', 'think', 'does', 'good', 'use', 'time']\n",
            "Componente 2: ['windows', 'thanks', 'card', 'drive', 'dos', 'file', 'mail', 'use', 'files', 'advance']\n",
            "Componente 3: ['geb', 'gordon banks', 'pitt edu', 'intellect geb', 'geb cadre', 'cadre dsl', 'shameful surrender', 'edu shameful', 'dsl pitt', 'dsl']\n",
            "Componente 4: ['god', 'jesus', 'does', 'windows', 'thanks', 'bible', 'christ', 'faith', 'christians', 'christian']\n",
            "Componente 5: ['key', 'chip', 'encryption', 'government', 'clipper', 'keys', 'use', 'public', 'law', 'escrow']\n",
            "Componente 6: ['drive', 'scsi', 'drives', 'disk', 'hard', 'ide', 'key', 'controller', 'chip', 'card']\n",
            "Componente 7: ['god', '00', 'edu', '10', 'sale', 'new', 'jesus', 'com', 'space', 'key']\n",
            "Componente 8: ['windows', 'file', 'window', 'dos', 'files', 'problem', 'program', 'running', 'using', 'use']\n",
            "Componente 9: ['key', 'game', 'god', 'chip', 'team', 'does', 'games', 'clipper', 'keys', 'encryption']\n",
            "Componente 10: ['car', 'bike', 'just', 'like', 'good', 'god', 've', 'cars', 'engine', 'new']\n",
            "Componente 11: ['card', 'video', 'monitor', 'does', 'drivers', 'video card', 'cards', 'driver', 'vga', 'bus']\n",
            "Componente 12: ['edu', 'don', 'com', 'space', 'think', 'card', 'nasa', 'video', 'don know', 'people']\n",
            "Componente 13: ['does', 'space', 'does know', 'know', 'window', 'program', 'nasa', 'israel', 'time', 'data']\n",
            "Componente 14: ['know', 'does', 'file', '00', 'windows', 'files', 'dos', 'don', 'does know', 'car']\n",
            "Componente 15: ['space', 'nasa', 'thanks', 'card', 'windows', 'shuttle', 'launch', 'time', 'advance', 'thanks advance']\n",
            "Componente 16: ['edu', 'com', 'car', 'just', 'israel', 'key', 've', 'drivers', 'scsi', 'ftp']\n",
            "Componente 17: ['armenian', 'know', 'armenians', 'window', 'turkish', 'don', 'don know', 'said', 'armenia', 'com']\n",
            "Componente 18: ['just', 'israel', '00', 'key', 'jews', 'like', 'israeli', 'space', 'arab', 'jewish']\n",
            "Componente 19: ['like', 'just', 'does', 'people', 'new', 'window', 'government', 'make', 'sale', 'offer']\n",
            "Componente 20: ['just', '00', 'com', 'space', 'window', 'windows', 'problem', 'does', 'dos', 'mouse']\n",
            "Componente 21: ['window', 'think', 'space', 'car', 'don', 'just', 'new', 'god', 'edu', 'nasa']\n",
            "Componente 22: ['just', 'file', 'thanks', 'files', 'bit', 'ftp', '00', 'scsi', 'right', 'gun']\n",
            "Componente 23: ['00', 'like', 'scsi', 'think', 've', 'bus', 'believe', 'ide', 'bit', 'thanks']\n",
            "Componente 24: ['scsi', 'use', 'god', 'windows', 'know', 'people', 'israel', 'edu', 'window', 'mac']\n",
            "Componente 25: ['like', 'problem', 'gun', 'space', 'use', 'edu', 'bike', 'people', 'god', 'game']\n",
            "Componente 26: ['com', 'jesus', 'scsi', 'don', 'use', 'car', 'said', 'windows', 'thanks advance', 'advance']\n",
            "Componente 27: ['edu', 'bike', 'deleted', 'good', 'time', 'memory', 'stuff', 'stuff deleted', 'windows', 'dos']\n",
            "Componente 28: ['bike', 'com', 'need', 'file', 'new', 'window', 've', 'll', 'got', 'files']\n",
            "Componente 29: ['new', 'like', 'windows', 'jesus', 'think', 'mac', 'gun', 'use', 'mail', 'edu']\n",
            "Componente 30: ['think', '00', 'use', 'jesus', 'deleted', 'stuff', 'program', 'mac', 'didn', 'right']\n"
          ]
        }
      ]
    },
    {
      "cell_type": "markdown",
      "source": [
        "Estos son algunos valores de las distintas componentes que se obtuvieron al reducir la dimensionalidad. Allí se puede observar cierta relación entre los términos."
      ],
      "metadata": {
        "id": "CwBz6X70OsAw"
      }
    },
    {
      "cell_type": "markdown",
      "source": [
        "##CountVectorizer"
      ],
      "metadata": {
        "id": "T_xPfXvx4fRk"
      }
    },
    {
      "cell_type": "code",
      "source": [
        "cv = CountVectorizer(ngram_range=(1,2), max_df=1.0, min_df=20, max_features=None, stop_words=\"english\")\n",
        "TNG_cv = cv.fit_transform(TNG_train.data)\n",
        "TNG_cv.shape"
      ],
      "metadata": {
        "colab": {
          "base_uri": "https://localhost:8080/"
        },
        "outputId": "57832e51-60fe-4824-c182-50d5f5c0854f",
        "id": "xQrrDMfE4fRx"
      },
      "execution_count": null,
      "outputs": [
        {
          "output_type": "execute_result",
          "data": {
            "text/plain": [
              "(11314, 6577)"
            ]
          },
          "metadata": {},
          "execution_count": 48
        }
      ]
    },
    {
      "cell_type": "code",
      "source": [
        "red = TruncatedSVD(n_components=300)\n",
        "TNG_cv_red = red.fit_transform(TNG_cv)\n",
        "TNG_cv_red.shape"
      ],
      "metadata": {
        "colab": {
          "base_uri": "https://localhost:8080/"
        },
        "outputId": "24b526c3-b526-44a1-f6d9-52f29312ba9f",
        "id": "VF6DeRkK4fRy"
      },
      "execution_count": null,
      "outputs": [
        {
          "output_type": "execute_result",
          "data": {
            "text/plain": [
              "(11314, 300)"
            ]
          },
          "metadata": {},
          "execution_count": 49
        }
      ]
    },
    {
      "cell_type": "code",
      "source": [
        "TNG_norm = (TNG_cv_red.T/(np.linalg.norm(TNG_cv_red, axis=-1)+1e-8)).T\n",
        "cosines = np.dot(TNG_norm[0], TNG_norm.T)\n",
        "cosines\n",
        "\n",
        "docs_cmp = 50\n",
        "helper.sim_cos(cosines, TNG_train, docs_cmp)"
      ],
      "metadata": {
        "colab": {
          "base_uri": "https://localhost:8080/"
        },
        "outputId": "584f0205-17d2-4aa3-b11c-c326b2861928",
        "id": "ic3ZXUkK4fRy"
      },
      "execution_count": null,
      "outputs": [
        {
          "output_type": "stream",
          "name": "stdout",
          "text": [
            "Documento elegido: \n",
            "\t rec.autos\n",
            "Mayoes similitud coseno con otros documentos:\n",
            "0.78709  rec.autos                  0.73320  rec.autos                  0.65581  rec.autos                 0.61397  rec.autos                  0.58842  rec.autos                \n",
            "0.77718  rec.autos                  0.72522  rec.motorcycles            0.65450  rec.autos                 0.61050  talk.politics.misc         0.58708  rec.autos                \n",
            "0.77611  rec.autos                  0.72362  rec.autos                  0.65048  rec.autos                 0.61004  sci.electronics            0.57870  rec.sport.hockey         \n",
            "0.77281  rec.autos                  0.71698  rec.autos                  0.64025  rec.autos                 0.60990  rec.autos                  0.57839  rec.autos                \n",
            "0.75728  rec.autos                  0.71492  rec.autos                  0.63787  rec.autos                 0.60899  rec.autos                  0.57760  rec.autos                \n",
            "0.75416  rec.autos                  0.71158  rec.autos                  0.63708  rec.motorcycles           0.60732  alt.atheism                0.57203  rec.autos                \n",
            "0.74865  rec.autos                  0.70533  rec.autos                  0.63483  rec.autos                 0.60713  misc.forsale               0.56909  rec.autos                \n",
            "0.74653  rec.autos                  0.69490  rec.autos                  0.62683  misc.forsale              0.60539  rec.autos                  0.56852  rec.autos                \n",
            "0.74516  alt.atheism                0.68330  rec.autos                  0.61921  rec.autos                 0.59974  rec.autos                  0.56645  rec.autos                \n",
            "0.73386  rec.autos                  0.65952  rec.autos                  0.61767  rec.autos                 0.59270  rec.autos                  0.56631  rec.autos                \n"
          ]
        }
      ]
    },
    {
      "cell_type": "markdown",
      "source": [
        "Se puede obsevar que al realizar la reducción de dimensionalidad, aumentó notablemente la similitud coseno. Incluso hubo una mejora respecto a la realización con TDF-IDF."
      ],
      "metadata": {
        "id": "NkL8sl7yPCTz"
      }
    },
    {
      "cell_type": "markdown",
      "source": [
        "#3 - Matriz término-documento"
      ],
      "metadata": {
        "id": "cTSxyyE8MQtW"
      }
    },
    {
      "cell_type": "code",
      "source": [
        "cv = TfidfVectorizer(ngram_range=(1,2), max_df=1.0, min_df=20, max_features=None, stop_words=\"english\")\n",
        "TNG_cv = cv.fit_transform(TNG_train.data)\n",
        "TNG_cv.shape"
      ],
      "metadata": {
        "colab": {
          "base_uri": "https://localhost:8080/"
        },
        "id": "d-6uQAe7MEdD",
        "outputId": "1d7bd820-5720-4e8f-83f7-677de653ca34"
      },
      "execution_count": null,
      "outputs": [
        {
          "output_type": "execute_result",
          "data": {
            "text/plain": [
              "(11314, 6577)"
            ]
          },
          "metadata": {},
          "execution_count": 26
        }
      ]
    },
    {
      "cell_type": "code",
      "source": [
        "TNG_cv_trn = np.transpose(TNG_cv)\n",
        "TNG_cv_trn.shape"
      ],
      "metadata": {
        "colab": {
          "base_uri": "https://localhost:8080/"
        },
        "id": "gpeORsJsMkQ-",
        "outputId": "5fdf412b-f0af-45e9-db9a-f14e4287e54e"
      },
      "execution_count": null,
      "outputs": [
        {
          "output_type": "execute_result",
          "data": {
            "text/plain": [
              "(6577, 11314)"
            ]
          },
          "metadata": {},
          "execution_count": 27
        }
      ]
    },
    {
      "cell_type": "code",
      "source": [
        "svd = TruncatedSVD(n_components=100)\n",
        "TNG_reduced = svd.fit_transform(TNG_cv_trn)"
      ],
      "metadata": {
        "id": "PipnH69CPVTV"
      },
      "execution_count": null,
      "outputs": []
    },
    {
      "cell_type": "code",
      "source": [
        "selected_word='circuit'\n",
        "selected_term_index = list(cv.get_feature_names_out()).index(selected_word)\n",
        "TNG_tr_norm = (TNG_reduced.T/(np.linalg.norm(TNG_reduced, axis=-1)+1e-8)).T\n",
        "cosines = np.dot(TNG_tr_norm[selected_term_index], TNG_tr_norm.T)\n",
        "cosines"
      ],
      "metadata": {
        "colab": {
          "base_uri": "https://localhost:8080/"
        },
        "id": "8A9vGyNzNT9-",
        "outputId": "a9d607f5-a0bf-4c48-b39a-09a22c748fe9"
      },
      "execution_count": null,
      "outputs": [
        {
          "output_type": "execute_result",
          "data": {
            "text/plain": [
              "array([ 0.00308337,  0.09510134,  0.03907857, ..., -0.06521584,\n",
              "        0.08592683,  0.01036373])"
            ]
          },
          "metadata": {},
          "execution_count": 44
        }
      ]
    },
    {
      "cell_type": "code",
      "source": [
        "print(\"Término elegido:\\n\\t\", cv.get_feature_names_out()[selected_term_index])\n",
        "\n",
        "print(\"Similitud con otros términos:\")\n",
        "# Obtener los índices de los términos más similares (excluyendo el término seleccionado)\n",
        "similar_term_indices = np.argsort(cosines)[-61:-1][::-1]\n",
        "similar_term_names = [cv.get_feature_names_out()[i] for i in similar_term_indices]\n",
        "\n",
        "num_columns = 3\n",
        "num_rows = len(similar_term_indices) // num_columns\n",
        "\n",
        "for i in range(num_rows):\n",
        "    row_terms = similar_term_names[i*num_columns: (i+1)*num_columns]\n",
        "    row_cosines = cosines[similar_term_indices[i*num_columns: (i+1)*num_columns]]\n",
        "    row_output = \"\".join(\"\\t{:.5f}  {:<25}\".format(cosine, term) for cosine, term in zip(row_cosines, row_terms))\n",
        "    print(row_output)\n"
      ],
      "metadata": {
        "colab": {
          "base_uri": "https://localhost:8080/"
        },
        "id": "TXhGGsKpNCFQ",
        "outputId": "ca71691b-d82d-4926-baa7-8c9452ac71d9"
      },
      "execution_count": null,
      "outputs": [
        {
          "output_type": "stream",
          "name": "stdout",
          "text": [
            "Término elegido:\n",
            "\t circuit\n",
            "Similitud con otros términos:\n",
            "\t0.83623  voltage                  \t0.77667  volt                     \t0.76478  circuits                 \n",
            "\t0.76443  resistor                 \t0.74553  frequency                \t0.73003  analog                   \n",
            "\t0.72674  audio                    \t0.72656  signal                   \t0.72644  input                    \n",
            "\t0.72629  electronics              \t0.72166  electrical               \t0.71618  amp                      \n",
            "\t0.70076  current                  \t0.69506  ttl                      \t0.68558  signals                  \n",
            "\t0.68270  wiring                   \t0.67140  output                   \t0.66415  wire                     \n",
            "\t0.65437  components               \t0.64110  noise                    \t0.63867  frequencies              \n",
            "\t0.63503  balanced                 \t0.62829  flow                     \t0.62755  transmitter              \n",
            "\t0.62674  relay                    \t0.62337  inputs                   \t0.62318  powered                  \n",
            "\t0.62057  generator                \t0.60275  rf                       \t0.59831  connected                \n",
            "\t0.59597  led                      \t0.59490  lamp                     \t0.59394  ground                   \n",
            "\t0.59063  cycle                    \t0.58686  wires                    \t0.58229  receiver                 \n",
            "\t0.58037  low                      \t0.57762  detect                   \t0.57746  metal                    \n",
            "\t0.57238  shack                    \t0.57136  radio shack              \t0.57090  amplifier                \n",
            "\t0.57033  watts                    \t0.55819  range                    \t0.55716  switching                \n",
            "\t0.55530  antenna                  \t0.55349  ratio                    \t0.55197  touch                    \n",
            "\t0.54814  radio                    \t0.54653  channel                  \t0.54554  build                    \n",
            "\t0.54105  filter                   \t0.54062  supply                   \t0.53888  gain                     \n",
            "\t0.53482  crystal                  \t0.53452  ham                      \t0.53345  amateur                  \n",
            "\t0.53228  design                   \t0.52857  switches                 \t0.52120  designed                 \n"
          ]
        }
      ]
    },
    {
      "cell_type": "markdown",
      "source": [
        "##Utilizando NearestNeighbors"
      ],
      "metadata": {
        "id": "o3ALdcuMCIEn"
      }
    },
    {
      "cell_type": "code",
      "source": [
        "red = TruncatedSVD(n_components=300)\n",
        "TNG_cv_red = red.fit_transform(TNG_cv.T)\n",
        "neigh = NearestNeighbors(n_neighbors=20, metric=\"cosine\")\n",
        "neigh.fit(TNG_cv_red)"
      ],
      "metadata": {
        "id": "rvZlhQOrApb7"
      },
      "execution_count": null,
      "outputs": []
    },
    {
      "cell_type": "code",
      "source": [
        "idx_1 = cv.vocabulary_[\"circuit\"]\n",
        "dist, neig = neigh.kneighbors(TNG_cv_red[idx_1:idx_1+1])\n",
        "for n,d in zip(neig[0],dist[0]):\n",
        "    print(f\"{round(1-d,5):<10}{cv.get_feature_names_out()[n]}\")"
      ],
      "metadata": {
        "colab": {
          "base_uri": "https://localhost:8080/"
        },
        "id": "a0H3Y5K-BkQ8",
        "outputId": "ed1c114e-9a31-4c2a-e7e6-66990259e072"
      },
      "execution_count": null,
      "outputs": [
        {
          "output_type": "stream",
          "name": "stdout",
          "text": [
            "1.0       circuit\n",
            "0.66248   voltage\n",
            "0.61631   circuits\n",
            "0.57153   resistor\n",
            "0.55774   electronics\n",
            "0.50519   frequency\n",
            "0.50397   volt\n",
            "0.4987    relay\n",
            "0.49473   input\n",
            "0.49092   output\n",
            "0.48345   analog\n",
            "0.44853   generator\n",
            "0.44458   electrical\n",
            "0.44391   amp\n",
            "0.41819   current\n",
            "0.41439   signals\n",
            "0.41352   detect\n",
            "0.41136   rf\n",
            "0.40589   design\n",
            "0.39962   ct\n"
          ]
        }
      ]
    },
    {
      "cell_type": "markdown",
      "source": [
        "Se puede notar que hay cierta diferencia entre calcular la similitud coseno a mano y utilizando NearestNeighbors. Sin embargo, ambas formas son aceptables."
      ],
      "metadata": {
        "id": "FuKO6PAmPeKq"
      }
    },
    {
      "cell_type": "markdown",
      "source": [
        "#4 - Matriz término-clase"
      ],
      "metadata": {
        "id": "1CKCZthd6LgE"
      }
    },
    {
      "cell_type": "markdown",
      "source": [
        "##Cálculo de matriz"
      ],
      "metadata": {
        "id": "FcfNGUXHQWmz"
      }
    },
    {
      "cell_type": "code",
      "source": [
        "cv = CountVectorizer(ngram_range=(1,2), max_df=1.0, min_df=20, max_features=None, stop_words=\"english\")\n",
        "TNG_cv = cv.fit_transform(TNG_train.data)\n",
        "TNG_cv.shape"
      ],
      "metadata": {
        "colab": {
          "base_uri": "https://localhost:8080/"
        },
        "id": "WA8cea6t6TeS",
        "outputId": "c7722d40-fd8a-4099-e0be-9dcf0d0dcfc8"
      },
      "execution_count": null,
      "outputs": [
        {
          "output_type": "execute_result",
          "data": {
            "text/plain": [
              "(11314, 6577)"
            ]
          },
          "metadata": {},
          "execution_count": 72
        }
      ]
    },
    {
      "cell_type": "code",
      "source": [
        "TNG_cv_array = TNG_cv.toarray()\n",
        "term_class_matrix = np.zeros((TNG_cv_array.shape[1], len(np.unique(TNG_train.target))))\n",
        "\n",
        "for doc_idx, term_idx in zip(*TNG_cv.nonzero()):\n",
        "    term_class_matrix[term_idx, TNG_train.target[doc_idx]] += TNG_cv_array[doc_idx, term_idx]\n",
        "term_class_matrix_normalized = term_class_matrix / np.max(term_class_matrix, axis=0, keepdims=True) #Normalizo\n",
        "\n",
        "term_class_matrix_normalized.shape"
      ],
      "metadata": {
        "colab": {
          "base_uri": "https://localhost:8080/"
        },
        "id": "DP7J1wjzLQk8",
        "outputId": "a71ff991-d967-4f8a-b3c0-05e93f1796bb"
      },
      "execution_count": null,
      "outputs": [
        {
          "output_type": "execute_result",
          "data": {
            "text/plain": [
              "(6577, 20)"
            ]
          },
          "metadata": {},
          "execution_count": 133
        }
      ]
    },
    {
      "cell_type": "code",
      "source": [
        "idx = cv.vocabulary_[\"car\"]\n",
        "cv.get_feature_names_out()[idx]"
      ],
      "metadata": {
        "colab": {
          "base_uri": "https://localhost:8080/",
          "height": 35
        },
        "id": "Jio1ZCa_P6VH",
        "outputId": "0d606e2d-99b3-4ecb-f553-51788cef752a"
      },
      "execution_count": null,
      "outputs": [
        {
          "output_type": "execute_result",
          "data": {
            "text/plain": [
              "'car'"
            ],
            "application/vnd.google.colaboratory.intrinsic+json": {
              "type": "string"
            }
          },
          "metadata": {},
          "execution_count": 135
        }
      ]
    },
    {
      "cell_type": "code",
      "source": [
        "term_idx_sort = np.argsort(term_class_matrix_normalized[idx])[::-1]\n",
        "class_sort = [TNG_train.target_names[i] for i in term_idx_sort]\n",
        "class_sort"
      ],
      "metadata": {
        "colab": {
          "base_uri": "https://localhost:8080/"
        },
        "id": "5zsc4vDOPPN3",
        "outputId": "0d88efb6-32eb-4808-a5a0-d6a37578d8d9"
      },
      "execution_count": null,
      "outputs": [
        {
          "output_type": "execute_result",
          "data": {
            "text/plain": [
              "['rec.autos',\n",
              " 'rec.motorcycles',\n",
              " 'sci.electronics',\n",
              " 'misc.forsale',\n",
              " 'talk.politics.mideast',\n",
              " 'talk.politics.guns',\n",
              " 'alt.atheism',\n",
              " 'talk.politics.misc',\n",
              " 'talk.religion.misc',\n",
              " 'rec.sport.hockey',\n",
              " 'sci.crypt',\n",
              " 'comp.sys.ibm.pc.hardware',\n",
              " 'sci.med',\n",
              " 'comp.windows.x',\n",
              " 'sci.space',\n",
              " 'soc.religion.christian',\n",
              " 'comp.sys.mac.hardware',\n",
              " 'comp.os.ms-windows.misc',\n",
              " 'comp.graphics',\n",
              " 'rec.sport.baseball']"
            ]
          },
          "metadata": {},
          "execution_count": 136
        }
      ]
    },
    {
      "cell_type": "code",
      "source": [
        "selected_words = [\n",
        "    \"car\",\n",
        "    \"model\",\n",
        "    \"technology\",\n",
        "    \"computer\",\n",
        "    \"space\",\n",
        "    \"god\",\n",
        "    \"research\",\n",
        "    \"information\",\n",
        "    \"software\",\n",
        "    \"data\",\n",
        "    \"disk\",\n",
        "    \"mac\"\n",
        "]\n",
        "words=cv.get_feature_names_out()\n",
        "selected_word_indices = [words.tolist().index(word) for word in selected_words]\n",
        "reduced_matrix = term_class_matrix_normalized[selected_word_indices,:]\n",
        "reduced_matrix = np.transpose(reduced_matrix)\n",
        "\n",
        "plt.imshow(1-reduced_matrix, cmap='gray', vmin=0, vmax=1)\n",
        "plt.xticks(range(len(selected_words)), selected_words, rotation=90)\n",
        "plt.yticks(range(len(np.unique(TNG_train.target))), np.unique(TNG_train.target_names))\n",
        "plt.tick_params(axis='x', which='both', bottom=False, top=True, labelbottom=False, labeltop=True)\n",
        "\n",
        "plt.show()"
      ],
      "metadata": {
        "colab": {
          "base_uri": "https://localhost:8080/",
          "height": 496
        },
        "id": "z4G8vouNTT1b",
        "outputId": "b9152977-f26e-4f44-fe2b-126f3a74bf1e"
      },
      "execution_count": null,
      "outputs": [
        {
          "output_type": "display_data",
          "data": {
            "text/plain": [
              "<Figure size 640x480 with 1 Axes>"
            ],
            "image/png": "[encoded data removed]"
          },
          "metadata": {}
        }
      ]
    },
    {
      "cell_type": "markdown",
      "source": [
        "##Similitud coseno"
      ],
      "metadata": {
        "id": "W2q1zN_UQgjn"
      }
    },
    {
      "cell_type": "code",
      "source": [
        "neigh = NearestNeighbors(n_neighbors=25, metric=\"cosine\")\n",
        "neigh.fit(term_class_matrix_normalized)"
      ],
      "metadata": {
        "id": "b8jdlijhbIok"
      },
      "execution_count": null,
      "outputs": []
    },
    {
      "cell_type": "code",
      "source": [
        "idx_1 = cv.vocabulary_[\"car\"]\n",
        "dist, neig = neigh.kneighbors(term_class_matrix_normalized[idx_1:idx_1+1])\n",
        "for n,d in zip(neig[0],dist[0]):\n",
        "    print(f\"{round(1-d,5):<10}{cv.get_feature_names_out()[n]}\")"
      ],
      "metadata": {
        "colab": {
          "base_uri": "https://localhost:8080/"
        },
        "id": "WnxRi58gbeEZ",
        "outputId": "4c758300-caaf-4729-b221-6e2ed701538c"
      },
      "execution_count": null,
      "outputs": [
        {
          "output_type": "stream",
          "name": "stdout",
          "text": [
            "1.0       car\n",
            "0.99626   cars\n",
            "0.98987   ford\n",
            "0.98928   trunk\n",
            "0.9868    brake\n",
            "0.98465   alarm\n",
            "0.9798    gt\n",
            "0.97425   toyota\n",
            "0.97266   vw\n",
            "0.97164   trucks\n",
            "0.97125   sho\n",
            "0.96802   dodge\n",
            "0.9578    mileage\n",
            "0.95558   brakes\n",
            "0.95523   autos\n",
            "0.94709   tires\n",
            "0.93198   chrysler\n",
            "0.92884   maintenance\n",
            "0.9262    civic\n",
            "0.91716   engine\n",
            "0.91705   driving\n",
            "0.91445   wheel\n",
            "0.91444   drove\n",
            "0.90617   mx\n",
            "0.90411   wheels\n"
          ]
        }
      ]
    },
    {
      "cell_type": "markdown",
      "source": [
        "Se puede observar como la similitud entre distintos términos resultó ser enorme (y correcta) al separarlos por clase."
      ],
      "metadata": {
        "id": "kgPP6jTCP0AB"
      }
    },
    {
      "cell_type": "markdown",
      "source": [
        "#5 - Matriz término-término"
      ],
      "metadata": {
        "id": "xMfXtZv2ePui"
      }
    },
    {
      "cell_type": "markdown",
      "source": [
        "Se decidió eliminar de antemano las stop-words, para luego evitar inconvenientes."
      ],
      "metadata": {
        "id": "ND5XT0z1QCR3"
      }
    },
    {
      "cell_type": "code",
      "source": [
        "nltk.download('stopwords')\n",
        "stop_words = set(stopwords.words('english'))"
      ],
      "metadata": {
        "colab": {
          "base_uri": "https://localhost:8080/"
        },
        "id": "JHjM1fKlePlO",
        "outputId": "3353fee9-02b6-42b0-cfca-461ebbb1ec32"
      },
      "execution_count": 4,
      "outputs": [
        {
          "output_type": "stream",
          "name": "stderr",
          "text": [
            "[nltk_data] Downloading package stopwords to /root/nltk_data...\n",
            "[nltk_data]   Unzipping corpora/stopwords.zip.\n"
          ]
        }
      ]
    },
    {
      "cell_type": "code",
      "source": [
        "# Preprocesamiento para eliminar stopwords antes del tokenizado\n",
        "filtered_texts = []\n",
        "for text in TNG_train.data:\n",
        "    words = text.split()\n",
        "    filtered_words = [word for word in words if word.lower() not in stop_words]\n",
        "    filtered_texts.append(' '.join(filtered_words))"
      ],
      "metadata": {
        "id": "wZbfwDUhB2dy"
      },
      "execution_count": 5,
      "outputs": []
    },
    {
      "cell_type": "markdown",
      "source": [
        "##Cálculo de matriz"
      ],
      "metadata": {
        "id": "RBbbzkjyQnW-"
      }
    },
    {
      "cell_type": "code",
      "source": [
        "max_words=10000\n",
        "V=max_words+1\n",
        "tokenizer = Tokenizer(num_words=max_words)\n",
        "tokenizer.fit_on_texts(filtered_texts)\n",
        "seqs=tokenizer.texts_to_sequences(filtered_texts)\n",
        "print(len(seqs), len(filtered_texts))"
      ],
      "metadata": {
        "colab": {
          "base_uri": "https://localhost:8080/"
        },
        "id": "-uote3brzt-_",
        "outputId": "03ac9546-54b7-4e04-fd08-626ad9ce10db"
      },
      "execution_count": 6,
      "outputs": [
        {
          "output_type": "stream",
          "name": "stdout",
          "text": [
            "11314 11314\n"
          ]
        }
      ]
    },
    {
      "cell_type": "code",
      "source": [
        "counts_matrix=lil_matrix((V-1, V-1))\n",
        "counts_matrix.shape"
      ],
      "metadata": {
        "colab": {
          "base_uri": "https://localhost:8080/"
        },
        "id": "hU843YNU3nWC",
        "outputId": "ad8db1dc-5136-47c7-d48a-6d18f379c720"
      },
      "execution_count": 7,
      "outputs": [
        {
          "output_type": "execute_result",
          "data": {
            "text/plain": [
              "(10000, 10000)"
            ]
          },
          "metadata": {},
          "execution_count": 7
        }
      ]
    },
    {
      "cell_type": "code",
      "source": [
        "seqs=np.hstack(seqs)\n",
        "seqs=seqs.astype(int)\n",
        "seqs.shape"
      ],
      "metadata": {
        "colab": {
          "base_uri": "https://localhost:8080/"
        },
        "id": "HLRGWM7X35b6",
        "outputId": "2049e64e-ed0c-4552-83a9-1130f36e401e"
      },
      "execution_count": 8,
      "outputs": [
        {
          "output_type": "execute_result",
          "data": {
            "text/plain": [
              "(1296034,)"
            ]
          },
          "metadata": {},
          "execution_count": 8
        }
      ]
    },
    {
      "cell_type": "code",
      "source": [
        "pairs, labels = skipgrams(sequence=list(seqs), vocabulary_size=V, window_size=5, negative_samples=0, sampling_table=make_sampling_table(V, sampling_factor=1), shuffle=False)\n",
        "len(pairs)"
      ],
      "metadata": {
        "colab": {
          "base_uri": "https://localhost:8080/"
        },
        "id": "3eiDHXSI50Ii",
        "outputId": "7cf952af-8f1d-413e-c846-b6f5e93367a2"
      },
      "execution_count": 9,
      "outputs": [
        {
          "output_type": "execute_result",
          "data": {
            "text/plain": [
              "12958470"
            ]
          },
          "metadata": {},
          "execution_count": 9
        }
      ]
    },
    {
      "cell_type": "code",
      "source": [
        "pairs_u, counts = np.unique(pairs,return_counts=True, axis=0)\n",
        "print (\"Pairs: \",pairs_u.shape)\n",
        "print (\"Counts: \",counts.shape)"
      ],
      "metadata": {
        "colab": {
          "base_uri": "https://localhost:8080/"
        },
        "id": "cgExUEFA6ZMX",
        "outputId": "45e24332-c613-474c-852e-edebbab6b076"
      },
      "execution_count": 10,
      "outputs": [
        {
          "output_type": "stream",
          "name": "stdout",
          "text": [
            "Pairs:  (5101133, 2)\n",
            "Counts:  (5101133,)\n"
          ]
        }
      ]
    },
    {
      "cell_type": "code",
      "source": [
        "for num,(pair,count) in enumerate(zip(pairs_u, counts)):\n",
        "    if num%1000 ==0:\n",
        "        print(f'\\r{num}', end=\"\")\n",
        "    counts_matrix[pair[0],pair[1]] += count"
      ],
      "metadata": {
        "colab": {
          "base_uri": "https://localhost:8080/"
        },
        "id": "yLyq6G1W7aeb",
        "outputId": "d63c69fb-ac78-4234-8b36-219ba4135967"
      },
      "execution_count": 11,
      "outputs": [
        {
          "output_type": "stream",
          "name": "stdout",
          "text": [
            "5101000"
          ]
        }
      ]
    },
    {
      "cell_type": "code",
      "source": [
        "red = TruncatedSVD(n_components=300)\n",
        "TNG_matrix_red = red.fit_transform(counts_matrix.T)\n",
        "TNG_matrix_red.shape"
      ],
      "metadata": {
        "colab": {
          "base_uri": "https://localhost:8080/"
        },
        "id": "Vdisxjqk78jL",
        "outputId": "8f095167-65ca-4a9f-dd98-37442c1451b1"
      },
      "execution_count": 12,
      "outputs": [
        {
          "output_type": "execute_result",
          "data": {
            "text/plain": [
              "(10000, 300)"
            ]
          },
          "metadata": {},
          "execution_count": 12
        }
      ]
    },
    {
      "cell_type": "code",
      "source": [
        "# Definir las palabras seleccionadas\n",
        "selected_words = [\n",
        "    \"windows\",\n",
        "    \"code\",\n",
        "    \"engineering\",\n",
        "    \"technology\",\n",
        "    \"computer\",\n",
        "    \"space\",\n",
        "    \"program\",\n",
        "    \"research\",\n",
        "    \"information\",\n",
        "    \"software\",\n",
        "    \"data\",\n",
        "    \"disk\",\n",
        "    \"mac\"\n",
        "]\n",
        "\n",
        "selected_word_indices = [tokenizer.word_index[word] for word in selected_words]\n",
        "term_term_matrix = counts_matrix[selected_word_indices, :][:, selected_word_indices].toarray()\n",
        "\n",
        "plt.imshow(1-term_term_matrix, cmap='gray')\n",
        "plt.xticks(range(len(selected_words)), selected_words, rotation=90)\n",
        "plt.yticks(range(len(selected_words)), selected_words)\n",
        "plt.show()"
      ],
      "metadata": {
        "colab": {
          "base_uri": "https://localhost:8080/",
          "height": 499
        },
        "id": "wNpu83rED0Ls",
        "outputId": "8f65185e-0d21-4302-a76b-628c1ad4e8c2"
      },
      "execution_count": 18,
      "outputs": [
        {
          "output_type": "display_data",
          "data": {
            "text/plain": [
              "<Figure size 640x480 with 1 Axes>"
            ],
            "image/png": "[encoded data removed]"
          },
          "metadata": {}
        }
      ]
    },
    {
      "cell_type": "markdown",
      "source": [
        "##Similitud coseno - Window size=5"
      ],
      "metadata": {
        "id": "3p2NZgtVQrxv"
      }
    },
    {
      "cell_type": "code",
      "source": [
        "neigh = NearestNeighbors(n_neighbors=20, metric=\"cosine\")\n",
        "neigh.fit(TNG_matrix_red)\n",
        "idx_1 = tokenizer.word_index[\"car\"]\n",
        "dist, neig = neigh.kneighbors(TNG_matrix_red[idx_1:idx_1+1])\n",
        "for n,d in zip(neig[0],dist[0]):\n",
        "    print(f\"{round(1-d,5):<10}{tokenizer.index_word[n]}\")"
      ],
      "metadata": {
        "colab": {
          "base_uri": "https://localhost:8080/"
        },
        "id": "NobsSs3S8okM",
        "outputId": "73090031-1aba-4c78-dae5-724e0c95a8e1"
      },
      "execution_count": 23,
      "outputs": [
        {
          "output_type": "stream",
          "name": "stdout",
          "text": [
            "1.0       car\n",
            "0.86419   cars\n",
            "0.84963   dealer\n",
            "0.84184   driving\n",
            "0.82325   accident\n",
            "0.81135   bike\n",
            "0.80697   engine\n",
            "0.80244   volvo\n",
            "0.80026   oil\n",
            "0.7883    buy\n",
            "0.78576   ford\n",
            "0.78244   tires\n",
            "0.78217   rear\n",
            "0.78086   passenger\n",
            "0.77928   toyota\n",
            "0.77893   wheels\n",
            "0.77714   road\n",
            "0.77638   front\n",
            "0.77471   selling\n",
            "0.77448   tire\n"
          ]
        }
      ]
    },
    {
      "cell_type": "markdown",
      "source": [
        "##Test de analogía"
      ],
      "metadata": {
        "id": "23PJk3i3OyFk"
      }
    },
    {
      "cell_type": "code",
      "source": [
        "from sklearn.preprocessing import normalize\n",
        "\n",
        "neigh = NearestNeighbors(n_neighbors=15, metric=\"cosine\")\n",
        "neigh.fit(TNG_matrix_red)\n",
        "\n",
        "idx_1 = tokenizer.word_index[\"man\"]\n",
        "idx_2 = tokenizer.word_index[\"father\"]\n",
        "idx_3 = tokenizer.word_index[\"woman\"]\n",
        "\n",
        "vector = TNG_matrix_red[idx_2] - TNG_matrix_red[idx_1] + TNG_matrix_red[idx_3]\n",
        "\n",
        "dist, neig = neigh.kneighbors([vector])\n",
        "for n,d in zip(neig[0],dist[0]):\n",
        "    if (tokenizer.index_word[n] not in [\"man\", \"woman\", \"father\"]):\n",
        "        print(f\"{round(1-d,5):<10}{tokenizer.index_word[n]}\")"
      ],
      "metadata": {
        "colab": {
          "base_uri": "https://localhost:8080/"
        },
        "id": "rtkY-8ZwFm2s",
        "outputId": "c1dcc7c5-49cd-4074-a670-79d648dc253c"
      },
      "execution_count": 59,
      "outputs": [
        {
          "output_type": "stream",
          "name": "stdout",
          "text": [
            "0.55291   proceeds\n",
            "0.52479   bayonet\n",
            "0.50343   bullets\n",
            "0.47175   son\n",
            "0.41041   stabbed\n",
            "0.33697   holy\n",
            "0.32892   spirit\n",
            "0.30756   hasan\n",
            "0.28262   father's\n",
            "0.27089   beaten\n",
            "0.26081   burnt\n",
            "0.25799   slaughtered\n",
            "0.23567   godhead\n",
            "0.21328   essence\n"
          ]
        }
      ]
    },
    {
      "cell_type": "markdown",
      "source": [
        "Se puede observar que el resultado del test de analogía es muy malo."
      ],
      "metadata": {
        "id": "SgFCtH18OPBf"
      }
    },
    {
      "cell_type": "markdown",
      "source": [
        "##Similitud coseno - Window size=10"
      ],
      "metadata": {
        "id": "Pn9qk23iyp0y"
      }
    },
    {
      "cell_type": "code",
      "source": [
        "pairs, labels = skipgrams(sequence=list(seqs), vocabulary_size=V, window_size=10, negative_samples=0, sampling_table=make_sampling_table(V, sampling_factor=1), shuffle=False)\n",
        "pairs_u, counts = np.unique(pairs,return_counts=True, axis=0)\n",
        "for num,(pair,count) in enumerate(zip(pairs_u, counts)):\n",
        "    counts_matrix[pair[0],pair[1]] += count\n",
        "red = TruncatedSVD(n_components=300)\n",
        "TNG_matrix_red = red.fit_transform(counts_matrix.T)\n",
        "\n",
        "neigh = NearestNeighbors(n_neighbors=20, metric=\"cosine\")\n",
        "neigh.fit(TNG_matrix_red)\n",
        "idx_1 = tokenizer.word_index[\"car\"]\n",
        "dist, neig = neigh.kneighbors(TNG_matrix_red[idx_1:idx_1+1])\n",
        "for n,d in zip(neig[0],dist[0]):\n",
        "    print(f\"{round(1-d,5):<10}{tokenizer.index_word[n]}\")"
      ],
      "metadata": {
        "colab": {
          "base_uri": "https://localhost:8080/"
        },
        "id": "fc7R9aXFSw8-",
        "outputId": "3b315074-6bae-4041-b7b7-c77d13b5045e"
      },
      "execution_count": 25,
      "outputs": [
        {
          "output_type": "stream",
          "name": "stdout",
          "text": [
            "1.0       car\n",
            "0.89272   dealer\n",
            "0.88865   cars\n",
            "0.86742   driving\n",
            "0.85345   ford\n",
            "0.84676   volvo\n",
            "0.83722   tires\n",
            "0.83535   accident\n",
            "0.83372   rear\n",
            "0.82627   passenger\n",
            "0.82514   bought\n",
            "0.82358   wheels\n",
            "0.82019   engine\n",
            "0.81694   nissan\n",
            "0.81024   replaced\n",
            "0.80999   front\n",
            "0.80373   oil\n",
            "0.80316   owner\n",
            "0.80311   miles\n",
            "0.79711   selling\n"
          ]
        }
      ]
    },
    {
      "cell_type": "markdown",
      "source": [
        "Se puede notar un aumento en la similitud respecto al caso anterior."
      ],
      "metadata": {
        "id": "VwGrCnwmyuq3"
      }
    },
    {
      "cell_type": "markdown",
      "source": [
        "##Similitud coseno - Window size=20"
      ],
      "metadata": {
        "id": "ZljaOPpNzdUg"
      }
    },
    {
      "cell_type": "code",
      "source": [
        "pairs, labels = skipgrams(sequence=list(seqs), vocabulary_size=V, window_size=20, negative_samples=0, sampling_table=make_sampling_table(V, sampling_factor=1), shuffle=False)\n",
        "pairs_u, counts = np.unique(pairs,return_counts=True, axis=0)\n",
        "for num,(pair,count) in enumerate(zip(pairs_u, counts)):\n",
        "    counts_matrix[pair[0],pair[1]] += count\n",
        "red = TruncatedSVD(n_components=300)\n",
        "TNG_matrix_red = red.fit_transform(counts_matrix.T)\n",
        "\n",
        "neigh = NearestNeighbors(n_neighbors=20, metric=\"cosine\")\n",
        "neigh.fit(TNG_matrix_red)\n",
        "idx_1 = tokenizer.word_index[\"car\"]\n",
        "dist, neig = neigh.kneighbors(TNG_matrix_red[idx_1:idx_1+1])\n",
        "for n,d in zip(neig[0],dist[0]):\n",
        "    print(f\"{round(1-d,5):<10}{tokenizer.index_word[n]}\")"
      ],
      "metadata": {
        "colab": {
          "base_uri": "https://localhost:8080/"
        },
        "id": "5lnPzKG_UsOb",
        "outputId": "de01e28d-2f57-4689-8624-0ea1ea817a22"
      },
      "execution_count": 8,
      "outputs": [
        {
          "output_type": "stream",
          "name": "stdout",
          "text": [
            "1.0       car\n",
            "0.92872   cars\n",
            "0.91294   dealer\n",
            "0.89084   driving\n",
            "0.87458   tires\n",
            "0.86916   volvo\n",
            "0.86838   ford\n",
            "0.86645   maintenance\n",
            "0.86368   passenger\n",
            "0.8636    rear\n",
            "0.85936   owner\n",
            "0.85795   alarm\n",
            "0.85709   mileage\n",
            "0.85512   wheel\n",
            "0.85455   wheels\n",
            "0.85354   toyota\n",
            "0.84943   nissan\n",
            "0.84925   civic\n",
            "0.84795   miles\n",
            "0.84523   front\n"
          ]
        }
      ]
    },
    {
      "cell_type": "markdown",
      "source": [
        "Se puede notar una gran mejora en la similitud y en las palabras con las que se realiza la relación. Sin embargo, se requiere de mucho tiempo de procesamiento y de mucha memoria ram, debido a que el tamaño de la ventana es mucho mayor."
      ],
      "metadata": {
        "id": "vSbGDZdYyzuf"
      }
    },
    {
      "cell_type": "markdown",
      "source": [
        "##Similitud coseno - Window size=1"
      ],
      "metadata": {
        "id": "in6aQYg6zgd5"
      }
    },
    {
      "cell_type": "code",
      "source": [
        "pairs, labels = skipgrams(sequence=list(seqs), vocabulary_size=V, window_size=1, negative_samples=0, sampling_table=make_sampling_table(V, sampling_factor=1), shuffle=False)\n",
        "pairs_u, counts = np.unique(pairs,return_counts=True, axis=0)\n",
        "for num,(pair,count) in enumerate(zip(pairs_u, counts)):\n",
        "    counts_matrix[pair[0],pair[1]] += count\n",
        "red = TruncatedSVD(n_components=300)\n",
        "TNG_matrix_red = red.fit_transform(counts_matrix.T)\n",
        "\n",
        "neigh = NearestNeighbors(n_neighbors=20, metric=\"cosine\")\n",
        "neigh.fit(TNG_matrix_red)\n",
        "idx_1 = tokenizer.word_index[\"car\"]\n",
        "dist, neig = neigh.kneighbors(TNG_matrix_red[idx_1:idx_1+1])\n",
        "for n,d in zip(neig[0],dist[0]):\n",
        "    print(f\"{round(1-d,5):<10}{tokenizer.index_word[n]}\")"
      ],
      "metadata": {
        "colab": {
          "base_uri": "https://localhost:8080/"
        },
        "id": "Aze5Wn1UUvaR",
        "outputId": "c2798a2f-b74a-4cfd-f7bb-1caee1a5ee39"
      },
      "execution_count": 9,
      "outputs": [
        {
          "output_type": "stream",
          "name": "stdout",
          "text": [
            "1.0       car\n",
            "0.92646   cars\n",
            "0.91367   dealer\n",
            "0.89864   driving\n",
            "0.88302   tires\n",
            "0.8773    passenger\n",
            "0.87104   volvo\n",
            "0.86841   ford\n",
            "0.86666   owner\n",
            "0.86552   rear\n",
            "0.86424   maintenance\n",
            "0.86003   wheels\n",
            "0.85521   bought\n",
            "0.85317   toyota\n",
            "0.85292   honda\n",
            "0.84915   alarm\n",
            "0.84581   front\n",
            "0.84358   wheel\n",
            "0.84176   accident\n",
            "0.84088   civic\n"
          ]
        }
      ]
    },
    {
      "cell_type": "markdown",
      "source": [
        "Sorprendentemente, al igual que el tamaño de ventana anterior, se obtuvo una gran mejoría y con un costo computacional muy pequeño, considerándoselo el mejor resultado hasta el momento."
      ],
      "metadata": {
        "id": "H85Qb_pnzOH6"
      }
    },
    {
      "cell_type": "markdown",
      "source": [
        "#6 - Matriz PPMI"
      ],
      "metadata": {
        "id": "laKV5aKcId_b"
      }
    },
    {
      "cell_type": "markdown",
      "source": [
        "##Cálculo de matriz"
      ],
      "metadata": {
        "id": "9vAFH3ZXQ2bi"
      }
    },
    {
      "cell_type": "code",
      "source": [
        "epsilon = 1e-8  #Para no tener indeterminaciones"
      ],
      "metadata": {
        "id": "3F3gxoLnZRnN"
      },
      "execution_count": 31,
      "outputs": []
    },
    {
      "cell_type": "code",
      "source": [
        "prob_marg = counts_matrix[1:,1:].sum(axis=1)/counts_matrix[1:,1:].sum() #Probabilidad marginal\n",
        "prob_marg.shape"
      ],
      "metadata": {
        "id": "x2ZDIOA4IdZQ",
        "colab": {
          "base_uri": "https://localhost:8080/"
        },
        "outputId": "3ef24f8a-fd7f-4a25-d0ef-0281066235c3"
      },
      "execution_count": 32,
      "outputs": [
        {
          "output_type": "execute_result",
          "data": {
            "text/plain": [
              "(9999, 1)"
            ]
          },
          "metadata": {},
          "execution_count": 32
        }
      ]
    },
    {
      "cell_type": "code",
      "source": [
        "probs = counts_matrix[1:,1:]/counts_matrix[1:,1:].sum() #Probabilidad total\n",
        "probs.shape"
      ],
      "metadata": {
        "colab": {
          "base_uri": "https://localhost:8080/"
        },
        "id": "rVvQ5WC0Uf6G",
        "outputId": "fbd84773-497b-4b79-8009-8f4a3618b747"
      },
      "execution_count": 33,
      "outputs": [
        {
          "output_type": "execute_result",
          "data": {
            "text/plain": [
              "(9999, 9999)"
            ]
          },
          "metadata": {},
          "execution_count": 33
        }
      ]
    },
    {
      "cell_type": "code",
      "source": [
        "PMI = probs/(np.dot(prob_marg,prob_marg.T))\n",
        "PMI=np.array(PMI)\n",
        "PMI=PMI*(PMI>1)+1e-8\n",
        "PMI = np.log(PMI)\n",
        "PMI"
      ],
      "metadata": {
        "colab": {
          "base_uri": "https://localhost:8080/"
        },
        "id": "1eaMFtQMVCRT",
        "outputId": "07aa65f3-edf5-4649-a034-79a2d2b4e699"
      },
      "execution_count": 34,
      "outputs": [
        {
          "output_type": "execute_result",
          "data": {
            "text/plain": [
              "array([[  2.83498863, -18.42068074, -18.42068074, ..., -18.42068074,\n",
              "        -18.42068074, -18.42068074],\n",
              "       [-18.42068074,   2.418169  ,   2.21867156, ..., -18.42068074,\n",
              "        -18.42068074, -18.42068074],\n",
              "       [-18.42068074,   2.21867156,   3.2228364 , ..., -18.42068074,\n",
              "        -18.42068074, -18.42068074],\n",
              "       ...,\n",
              "       [-18.42068074, -18.42068074, -18.42068074, ...,   6.92005974,\n",
              "        -18.42068074, -18.42068074],\n",
              "       [-18.42068074, -18.42068074, -18.42068074, ..., -18.42068074,\n",
              "        -18.42068074, -18.42068074],\n",
              "       [-18.42068074, -18.42068074, -18.42068074, ..., -18.42068074,\n",
              "        -18.42068074, -18.42068074]])"
            ]
          },
          "metadata": {},
          "execution_count": 34
        }
      ]
    },
    {
      "cell_type": "code",
      "source": [
        "PPMI = PMI*(PMI>0) + 1e-8\n",
        "PPMI"
      ],
      "metadata": {
        "colab": {
          "base_uri": "https://localhost:8080/"
        },
        "id": "1VzH4jRxZ3Qw",
        "outputId": "b6b953a1-be3f-491b-cad6-46a9024edc1a"
      },
      "execution_count": 35,
      "outputs": [
        {
          "output_type": "execute_result",
          "data": {
            "text/plain": [
              "array([[2.83498864e+00, 1.00000000e-08, 1.00000000e-08, ...,\n",
              "        1.00000000e-08, 1.00000000e-08, 1.00000000e-08],\n",
              "       [1.00000000e-08, 2.41816901e+00, 2.21867157e+00, ...,\n",
              "        1.00000000e-08, 1.00000000e-08, 1.00000000e-08],\n",
              "       [1.00000000e-08, 2.21867157e+00, 3.22283641e+00, ...,\n",
              "        1.00000000e-08, 1.00000000e-08, 1.00000000e-08],\n",
              "       ...,\n",
              "       [1.00000000e-08, 1.00000000e-08, 1.00000000e-08, ...,\n",
              "        6.92005975e+00, 1.00000000e-08, 1.00000000e-08],\n",
              "       [1.00000000e-08, 1.00000000e-08, 1.00000000e-08, ...,\n",
              "        1.00000000e-08, 1.00000000e-08, 1.00000000e-08],\n",
              "       [1.00000000e-08, 1.00000000e-08, 1.00000000e-08, ...,\n",
              "        1.00000000e-08, 1.00000000e-08, 1.00000000e-08]])"
            ]
          },
          "metadata": {},
          "execution_count": 35
        }
      ]
    },
    {
      "cell_type": "code",
      "source": [
        "red = TruncatedSVD(n_components=300)\n",
        "TNG_PPMI_red = red.fit_transform(PPMI)\n",
        "TNG_PPMI_red.shape"
      ],
      "metadata": {
        "colab": {
          "base_uri": "https://localhost:8080/"
        },
        "id": "mbgb_9CqXpZS",
        "outputId": "7c699612-e6a5-44f0-8d63-24d3561b00c0"
      },
      "execution_count": 36,
      "outputs": [
        {
          "output_type": "execute_result",
          "data": {
            "text/plain": [
              "(9999, 300)"
            ]
          },
          "metadata": {},
          "execution_count": 36
        }
      ]
    },
    {
      "cell_type": "markdown",
      "source": [
        "##Similitud coseno - Window size=5"
      ],
      "metadata": {
        "id": "kLkCOt6y0afS"
      }
    },
    {
      "cell_type": "code",
      "source": [
        "neigh = NearestNeighbors(n_neighbors=20, metric=\"cosine\")\n",
        "neigh.fit(TNG_PPMI_red)\n",
        "idx_1 = tokenizer.word_index[\"car\"]-1\n",
        "dist, neig = neigh.kneighbors(TNG_PPMI_red[idx_1:idx_1+1])\n",
        "for d,n in zip(dist[0], neig[0]):\n",
        "    print(f\"{round(1-d,5):<10}{tokenizer.index_word[n+1]}\")"
      ],
      "metadata": {
        "colab": {
          "base_uri": "https://localhost:8080/"
        },
        "id": "54M4rXO7y6Go",
        "outputId": "1e21ca28-685f-4fe6-87ad-86cf158818fd"
      },
      "execution_count": 20,
      "outputs": [
        {
          "output_type": "stream",
          "name": "stdout",
          "text": [
            "1.0       car\n",
            "0.80431   cars\n",
            "0.67822   tires\n",
            "0.67807   miles\n",
            "0.6748    bike\n",
            "0.65195   engine\n",
            "0.64929   toyota\n",
            "0.64437   honda\n",
            "0.63552   dealer\n",
            "0.63263   back\n",
            "0.62674   like\n",
            "0.62403   up\n",
            "0.6237    bought\n",
            "0.62351   ford\n",
            "0.62311   around\n",
            "0.62281   front\n",
            "0.61903   rear\n",
            "0.61745   brakes\n",
            "0.61684   buy\n",
            "0.61072   truck\n"
          ]
        }
      ]
    },
    {
      "cell_type": "markdown",
      "source": [
        "##Test de analogía"
      ],
      "metadata": {
        "id": "9D_rqPgSOsyl"
      }
    },
    {
      "cell_type": "code",
      "source": [
        "from sklearn.preprocessing import normalize\n",
        "\n",
        "neigh = NearestNeighbors(n_neighbors=7, metric=\"cosine\")\n",
        "neigh.fit(TNG_PPMI_red)\n",
        "\n",
        "idx_1 = tokenizer.word_index[\"man\"]-1\n",
        "idx_2 = tokenizer.word_index[\"father\"]-1\n",
        "idx_3 = tokenizer.word_index[\"woman\"]-1\n",
        "\n",
        "vector = TNG_PPMI_red[idx_2] - TNG_PPMI_red[idx_1] + TNG_PPMI_red[idx_3]\n",
        "\n",
        "dist, neig = neigh.kneighbors([vector])\n",
        "for n,d in zip(neig[0],dist[0]):\n",
        "    if (tokenizer.index_word[n+1] not in [\"man\", \"woman\", \"father\"]):\n",
        "        print(f\"{round(1-d,5):<10}{tokenizer.index_word[n+1]}\")"
      ],
      "metadata": {
        "colab": {
          "base_uri": "https://localhost:8080/"
        },
        "id": "gCAwoR4sKl6y",
        "outputId": "e7f61c03-f070-4ed7-fb0b-3a33df103bb4"
      },
      "execution_count": 69,
      "outputs": [
        {
          "output_type": "stream",
          "name": "stdout",
          "text": [
            "0.67932   mother\n",
            "0.65663   maria\n",
            "0.64869   daughter\n",
            "0.62312   aunt\n",
            "0.61935   husband\n"
          ]
        }
      ]
    },
    {
      "cell_type": "markdown",
      "source": [
        "Realmente se puede apreciar un empeoramiento en relación con las similitudes anteriores. Sin embargo, ahora se comienzan a cumplir los test de analogía de manera perfecta."
      ],
      "metadata": {
        "id": "KcJWKGaM06To"
      }
    }
  ]
}